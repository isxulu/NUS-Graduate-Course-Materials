{
  "cells": [
    {
      "cell_type": "markdown",
      "metadata": {
        "id": "c13c63a6"
      },
      "source": [
        "# Imports and Installations"
      ]
    },
    {
      "cell_type": "code",
      "execution_count": 1,
      "metadata": {
        "id": "8U02_AG3900U",
        "colab": {
          "base_uri": "https://localhost:8080/"
        },
        "outputId": "01cc180d-c41c-456c-c1bc-94997ad012dd"
      },
      "outputs": [
        {
          "output_type": "stream",
          "name": "stdout",
          "text": [
            "  Preparing metadata (setup.py) ... \u001b[?25l\u001b[?25hdone\n",
            "\u001b[2K     \u001b[90m━━━━━━━━━━━━━━━━━━━━━━━━━━━━━━━━━━━━━━━━\u001b[0m \u001b[32m49.6/49.6 kB\u001b[0m \u001b[31m864.0 kB/s\u001b[0m eta \u001b[36m0:00:00\u001b[0m\n",
            "\u001b[2K     \u001b[90m━━━━━━━━━━━━━━━━━━━━━━━━━━━━━━━━━━━━━━━━\u001b[0m \u001b[32m4.5/4.5 MB\u001b[0m \u001b[31m19.0 MB/s\u001b[0m eta \u001b[36m0:00:00\u001b[0m\n",
            "\u001b[2K     \u001b[90m━━━━━━━━━━━━━━━━━━━━━━━━━━━━━━━━━━━━━━━━\u001b[0m \u001b[32m11.6/11.6 MB\u001b[0m \u001b[31m51.1 MB/s\u001b[0m eta \u001b[36m0:00:00\u001b[0m\n",
            "\u001b[2K     \u001b[90m━━━━━━━━━━━━━━━━━━━━━━━━━━━━━━━━━━━━━━━━\u001b[0m \u001b[32m18.2/18.2 MB\u001b[0m \u001b[31m22.5 MB/s\u001b[0m eta \u001b[36m0:00:00\u001b[0m\n",
            "\u001b[2K     \u001b[90m━━━━━━━━━━━━━━━━━━━━━━━━━━━━━━━━━━━━━━━━\u001b[0m \u001b[32m721.7/721.7 kB\u001b[0m \u001b[31m17.4 MB/s\u001b[0m eta \u001b[36m0:00:00\u001b[0m\n",
            "\u001b[?25h  Installing build dependencies ... \u001b[?25l\u001b[?25hdone\n",
            "  Getting requirements to build wheel ... \u001b[?25l\u001b[?25hdone\n",
            "  Preparing metadata (pyproject.toml) ... \u001b[?25l\u001b[?25hdone\n",
            "\u001b[2K     \u001b[90m━━━━━━━━━━━━━━━━━━━━━━━━━━━━━━━━━━━━━━━━\u001b[0m \u001b[32m14.0/14.0 MB\u001b[0m \u001b[31m51.0 MB/s\u001b[0m eta \u001b[36m0:00:00\u001b[0m\n",
            "\u001b[2K     \u001b[90m━━━━━━━━━━━━━━━━━━━━━━━━━━━━━━━━━━━━━━━━\u001b[0m \u001b[32m305.2/305.2 kB\u001b[0m \u001b[31m37.8 MB/s\u001b[0m eta \u001b[36m0:00:00\u001b[0m\n",
            "\u001b[2K     \u001b[90m━━━━━━━━━━━━━━━━━━━━━━━━━━━━━━━━━━━━━━━━\u001b[0m \u001b[32m4.6/4.6 MB\u001b[0m \u001b[31m44.7 MB/s\u001b[0m eta \u001b[36m0:00:00\u001b[0m\n",
            "\u001b[2K     \u001b[90m━━━━━━━━━━━━━━━━━━━━━━━━━━━━━━━━━━━━━━━━\u001b[0m \u001b[32m1.6/1.6 MB\u001b[0m \u001b[31m85.3 MB/s\u001b[0m eta \u001b[36m0:00:00\u001b[0m\n",
            "\u001b[2K     \u001b[90m━━━━━━━━━━━━━━━━━━━━━━━━━━━━━━━━━━━━━━━━\u001b[0m \u001b[32m53.5/53.5 kB\u001b[0m \u001b[31m7.3 MB/s\u001b[0m eta \u001b[36m0:00:00\u001b[0m\n",
            "\u001b[2K     \u001b[90m━━━━━━━━━━━━━━━━━━━━━━━━━━━━━━━━━━━━━━━━\u001b[0m \u001b[32m103.2/103.2 kB\u001b[0m \u001b[31m12.9 MB/s\u001b[0m eta \u001b[36m0:00:00\u001b[0m\n",
            "\u001b[2K     \u001b[90m━━━━━━━━━━━━━━━━━━━━━━━━━━━━━━━━━━━━━━━━\u001b[0m \u001b[32m229.9/229.9 kB\u001b[0m \u001b[31m31.2 MB/s\u001b[0m eta \u001b[36m0:00:00\u001b[0m\n",
            "\u001b[?25h  Building wheel for pyRDDLGym (setup.py) ... \u001b[?25l\u001b[?25hdone\n",
            "  Building wheel for gym (pyproject.toml) ... \u001b[?25l\u001b[?25hdone\n",
            "\u001b[31mERROR: pip's dependency resolver does not currently take into account all the packages that are installed. This behaviour is the source of the following dependency conflicts.\n",
            "dopamine-rl 4.0.6 requires gym<=0.25.2, but you have gym 0.26.2 which is incompatible.\n",
            "imageio 2.31.6 requires pillow<10.1.0,>=8.3.2, but you have pillow 10.3.0 which is incompatible.\u001b[0m\u001b[31m\n",
            "\u001b[0m"
          ]
        }
      ],
      "source": [
        "#First install pyRDDL as following\n",
        "\n",
        "!pip install -q git+https://github.com/tasbolat1/pyRDDLGym.git --force-reinstall\n",
        "\n",
        "## Install other packages if needed"
      ]
    },
    {
      "cell_type": "code",
      "execution_count": 2,
      "metadata": {
        "id": "-gknJ0Ud97HT"
      },
      "outputs": [],
      "source": [
        "import torch\n",
        "import torch.nn as nn\n",
        "import torch.optim as optim\n",
        "import torch.nn.functional as F\n",
        "\n",
        "import copy\n",
        "import itertools\n",
        "import numpy as np\n",
        "import random\n",
        "import tqdm\n",
        "import matplotlib.pyplot as plt\n",
        "from collections import deque\n",
        "\n",
        "from pyRDDLGym.Visualizer.MovieGenerator import MovieGenerator # loads visualizer utilites\n",
        "from IPython.display import Image, display, clear_output # for displaying gifs in colab\n",
        "from pyRDDLGym.Elevator import Elevator # imports Discrete Elevator\n",
        "\n",
        "## Add more imports here"
      ]
    },
    {
      "cell_type": "markdown",
      "metadata": {
        "id": "fGHWCiCnfCO4"
      },
      "source": [
        "# Environment Initialization"
      ]
    },
    {
      "cell_type": "code",
      "execution_count": 3,
      "metadata": {
        "id": "o1E0mIDq-LXu",
        "colab": {
          "base_uri": "https://localhost:8080/"
        },
        "outputId": "1fba592b-1b92-4e49-8163-c8047e322380"
      },
      "outputs": [
        {
          "output_type": "stream",
          "name": "stdout",
          "text": [
            "/usr/local/lib/python3.10/dist-packages/pyRDDLGym/Examples /usr/local/lib/python3.10/dist-packages/pyRDDLGym/Examples/manifest.csv\n",
            "Available example environment(s):\n",
            "HVAC -> Multi-zone and multi-heater HVAC control problem\n",
            "PropDBN -> Simple propositional DBN.\n",
            "MarsRover -> Multi Rover Navigation, where a group of agent needs to harvest mineral.\n",
            "UAV_mixed -> Mixed action space version of multi-UAV problem where a group of UAVs have to reach goal positions in the 3d Space.\n",
            "UAV_discrete -> Discrete action space version of multi-UAV problem where a group of UAVs have to reach goal positions in the 3d Space.\n",
            "UAV_continuous -> Continuous action space version of multi-UAV problem where a group of UAVs have to reach goal positions in the 3d Space.\n",
            "SupplyChainNet -> A supply chain network with factory and multiple warehouses.\n",
            "Elevators -> The Elevator domain models evening rush hours when people from different floors in a building want to go down to the bottom floor using elevators.\n",
            "CartPole_discrete -> A simple continuous state MDP for the classical cart-pole system by Rich Sutton, with discrete actions that apply a constant force on either the left or right side of the cart.\n",
            "CartPole_continuous -> A simple continuous state-action MDP for the classical cart-pole system by Rich Sutton, with actions that describe the continuous force applied to the cart.\n",
            "PowerGen_discrete -> A simple power generation problem loosely modeled on the problem of unit commitment.\n",
            "PowerGen_continuous -> A continuous simple power generation problem loosely modeled on the problem of unit commitment.\n",
            "RecSim -> A problem of recommendation systems, with consumers and providers.\n",
            "SupplyChain -> A supply chain with factory and multiple warehouses.\n",
            "RaceCar -> A simple continuous MDP for the racecar problem.\n",
            "NewtonZero -> Example with Newton root-finding method.\n",
            "NewLanguage -> Example with new language features.\n",
            "Wildfire -> A boolean version of the wildfire fighting domain.\n",
            "Traffic -> BLX/QTM traffic model.\n",
            "MountainCar -> A simple continuous MDP for the classical mountain car control problem.\n",
            "Reservoir_discrete -> Discrete version of management of the water level in interconnected reservoirs.\n",
            "Reservoir_continuous -> Continuous action version of management of the water level in interconnected reservoirs.\n",
            "The building has 4 floors and 1 elevators. Each floor has maximum 3 people waiting. Each elevator can carry maximum of 10 people.\n"
          ]
        },
        {
          "output_type": "stream",
          "name": "stderr",
          "text": [
            "/usr/local/lib/python3.10/dist-packages/pyRDDLGym/Core/Env/RDDLConstraints.py:85: UserWarning: Constraint does not have a structure of <action or state fluent> <op> <rhs>, where:\n",
            "<op> is one of {<=, <, >=, >}\n",
            "<rhs> is a deterministic function of non-fluents or constants only.\n",
            ">> ( sum_{?f: floor} [ elevator-at-floor(?e, ?f) ] ) == 1\n",
            "  warnings.warn(\n"
          ]
        },
        {
          "output_type": "stream",
          "name": "stdout",
          "text": [
            "Discrete environment actions:\n",
            "{0: ('e0_movcurdir_0',), 1: ('e0_movcurdir_1',), 2: ('e0_close_0',), 3: ('e0_close_1',), 4: ('e0_open_0',), 5: ('e0_open_1',)}\n",
            "Continuous environment actions:\n",
            "Dict('move-current-dir___e0': Discrete(2), 'open-door___e0': Discrete(2), 'close-door___e0': Discrete(2))\n",
            "Observation space size for the discrete Elevator Environment: 45056\n"
          ]
        }
      ],
      "source": [
        "env = Elevator(instance = 4)\n",
        "print('Discrete environment actions:')\n",
        "print(env.disc_actions)\n",
        "print('Continuous environment actions:')\n",
        "print(env.base_env.action_space)\n",
        "print(f\"Observation space size for the discrete Elevator Environment: {len(env.disc_states)}\")"
      ]
    },
    {
      "cell_type": "markdown",
      "metadata": {
        "id": "e13dca8b"
      },
      "source": [
        "# Hyperparameters"
      ]
    },
    {
      "cell_type": "code",
      "execution_count": 21,
      "metadata": {
        "id": "uZrE28ZRGBmk"
      },
      "outputs": [],
      "source": [
        "# Define hyperparameters\n",
        "\n",
        "## IMPORTANT: <BEGIN> DO NOT CHANGE THIS CODE!\n",
        "## GENERAL HYPERPARAMS\n",
        "num_episodes = 3000\n",
        "## IMPORTANT: <END> DO NOT CHANGE THIS CODE!\n",
        "\n",
        "learning_rate = 3e-4\n",
        "batch_size = 8192 #64\n",
        "clip_value = 1.0  # Gradient clipping value\n",
        "\n",
        "## ALGO SPECIFIC HYPERPARAMS\n",
        "# Update the hyperparams as necessary for your implementation\n",
        "gamma = 0.99\n",
        "tau = 0.005\n",
        "buffer_size = 10000\n"
      ]
    },
    {
      "cell_type": "markdown",
      "metadata": {
        "id": "53155607"
      },
      "source": [
        "# Model Definition (COPY THIS OVER TO your AGENT.PY)\n"
      ]
    },
    {
      "cell_type": "code",
      "execution_count": 22,
      "metadata": {
        "id": "2bLSWBgLGEVC"
      },
      "outputs": [],
      "source": [
        "# Define the Model here - all component models (in case of actor-critic or others) MUST subclass nn.Module\n",
        "class YourModel(nn.Module):\n",
        "    def __init__(self):\n",
        "        super(YourModel, self).__init__()\n",
        "        # Your model layers and initializations here\n",
        "        self.fc1 = nn.Linear(11, 64)\n",
        "        self.fc2 = nn.Linear(64, 128)\n",
        "        self.fc3 = nn.Linear(128, 64)\n",
        "        self.fc4 = nn.Linear(64, 6)\n",
        "        self.ac1 = nn.ReLU()\n",
        "        self.ac2 = nn.ReLU()\n",
        "        self.ac3 = nn.ReLU()\n",
        "\n",
        "    def forward(self, x):\n",
        "        # x will be a tensor with shape [batch_size, 11]\n",
        "        # Your forward pass logic here\n",
        "        # Ensure the output has shape [batch_size, 6]\n",
        "        x = self.fc1(x)\n",
        "        x = self.ac1(x)\n",
        "        x = self.fc2(x)\n",
        "        x = self.ac2(x)\n",
        "        x = self.fc3(x)\n",
        "        x = self.ac3(x)\n",
        "        x = self.fc4(x)\n",
        "        return x"
      ]
    },
    {
      "cell_type": "markdown",
      "metadata": {
        "id": "d501d6e1"
      },
      "source": [
        "# Feature Extraction"
      ]
    },
    {
      "cell_type": "code",
      "execution_count": 23,
      "metadata": {
        "id": "c96b0591"
      },
      "outputs": [],
      "source": [
        "## IMPORTANT: DO NOT CHANGE THIS CODE!\n",
        "env_features = list(env.observation_space.keys())\n",
        "\n",
        "def convert_state_to_list(state, env_features):\n",
        "    out = []\n",
        "    for i in env_features:\n",
        "        out.append(state[i])\n",
        "    return out"
      ]
    },
    {
      "cell_type": "markdown",
      "metadata": {
        "id": "d4a67d06"
      },
      "source": [
        "# Neural Net Initialization"
      ]
    },
    {
      "cell_type": "code",
      "execution_count": 24,
      "metadata": {
        "id": "9uRwCjl7GHDJ"
      },
      "outputs": [],
      "source": [
        "# Initialize the network and optimizer\n",
        "input_size = len(env_features)\n",
        "output_size = 6\n",
        "\n",
        "# INITIALIZE OTHER NETWORK PARAMS HERE\n",
        "hidden_size = 128\n",
        "\n",
        "# INITIALIZE YOUR NETWORK HERE\n",
        "# your_network = YourModel()\n",
        "policy_net = YourModel()\n",
        "target_net = YourModel()\n",
        "\n",
        "# INIT OPTIMIZER - Adam is a good start, but you can try changing this as well\n",
        "optimizer = optim.AdamW(\n",
        "    policy_net.parameters(), lr=learning_rate\n",
        ")"
      ]
    },
    {
      "cell_type": "code",
      "execution_count": 25,
      "metadata": {
        "id": "xpEQ5uTqGJIQ"
      },
      "outputs": [],
      "source": [
        "# Convert networks to CUDA if available\n",
        "device = torch.device(\"cuda:0\" if torch.cuda.is_available() else \"cpu\")\n",
        "policy_net.to(device)\n",
        "target_net.to(device)\n",
        "\n",
        "# Define other constructs (replay buffers, etc) as necessary\n",
        "\n",
        "class Transition:\n",
        "    def __init__(self, state, action, next_state, reward):\n",
        "        self.state = state\n",
        "        self.action = action\n",
        "        self.next_state = next_state\n",
        "        self.reward = reward\n",
        "\n",
        "    @classmethod\n",
        "    def from_batch(cls, batch):\n",
        "        states = torch.stack([transition.state for transition in batch])\n",
        "        actions = torch.tensor([transition.action for transition in batch])  # 转换为Tensor对象\n",
        "        next_states = torch.stack([transition.next_state for transition in batch])\n",
        "        rewards = torch.tensor([transition.reward for transition in batch])  # 转换为Tensor对象\n",
        "        return cls(states, actions, next_states, rewards)\n",
        "\n",
        "class ReplayMemory:\n",
        "    def __init__(self, capacity):\n",
        "        self.capacity = capacity\n",
        "        self.memory = []\n",
        "\n",
        "    def push(self, state, action, next_state, reward):\n",
        "        if len(self.memory) < self.capacity:\n",
        "            self.memory.append(Transition(state, action, next_state, reward))\n",
        "        else:\n",
        "            self.memory.pop(0)\n",
        "            self.memory.append(Transition(state, action, next_state, reward))\n",
        "\n",
        "    def sample(self, batch_size):\n",
        "        return random.sample(self.memory, min(batch_size, len(self.memory)))\n",
        "\n",
        "    def __len__(self):\n",
        "        return len(self.memory)\n",
        "\n",
        "memory = ReplayMemory(buffer_size)"
      ]
    },
    {
      "cell_type": "markdown",
      "metadata": {
        "id": "GooOycK-MPib"
      },
      "source": [
        "## Gradient Clipping (Optional, you can use torch's version as well)"
      ]
    },
    {
      "cell_type": "code",
      "execution_count": 26,
      "metadata": {
        "id": "MZM5yTnHMN83"
      },
      "outputs": [],
      "source": [
        "# Define a function for gradient clipping\n",
        "def clip_grads(model, clip_value):\n",
        "    for param in model.parameters():\n",
        "        if param.grad is not None:\n",
        "            param.grad.data = torch.clamp(param.grad.data, -clip_value, clip_value)"
      ]
    },
    {
      "cell_type": "markdown",
      "metadata": {
        "id": "c50a3522"
      },
      "source": [
        "# Live Plotting Setup"
      ]
    },
    {
      "cell_type": "code",
      "execution_count": 27,
      "metadata": {
        "id": "kJTkOusq4bbH"
      },
      "outputs": [],
      "source": [
        "# Create a figure for plotting\n",
        "plt.style.use('ggplot')\n",
        "fig, ax = plt.subplots(figsize=(10, 6))\n",
        "plt.ion()\n",
        "\n",
        "# Lists to store rewards and episode numbers\n",
        "rewards_list = []\n",
        "episodes = []\n",
        "\n",
        "def exponential_smoothing(data, alpha=0.1):\n",
        "    \"\"\"Compute exponential smoothing.\"\"\"\n",
        "    smoothed = [data[0]]  # Initialize with the first data point\n",
        "    for i in range(1, len(data)):\n",
        "        st = alpha * data[i] + (1 - alpha) * smoothed[-1]\n",
        "        smoothed.append(st)\n",
        "    return smoothed\n",
        "\n",
        "def live_plot(data_dict, figure, ylabel=\"Total Rewards\"):\n",
        "    \"\"\"Plot the live graph.\"\"\"\n",
        "    clear_output(wait=True)\n",
        "    ax.clear()\n",
        "    for label, data in data_dict.items():\n",
        "        if label == \"Total Reward\":\n",
        "            ax.plot(data, label=label, color=\"yellow\", linestyle='--')\n",
        "\n",
        "            # Compute and plot moving average for total reward\n",
        "            ma = exponential_smoothing(data)\n",
        "            ma_idx_start = len(data) - len(ma)\n",
        "            ax.plot(range(ma_idx_start, len(data)), ma, label=\"Smoothed Value\", linestyle=\"-\", color=\"purple\", linewidth=2)\n",
        "        else:\n",
        "            ax.plot(data, label=label)\n",
        "    ax.set_ylabel(ylabel)\n",
        "    ax.legend(loc='upper left')\n",
        "    display(figure)\n"
      ]
    },
    {
      "cell_type": "markdown",
      "metadata": {
        "id": "232d30e3"
      },
      "source": [
        "# RL Algorithm"
      ]
    },
    {
      "cell_type": "code",
      "execution_count": 28,
      "metadata": {
        "id": "fItfNTEx8Luf"
      },
      "outputs": [],
      "source": [
        "# Define the loss calculation function\n",
        "def calculate_loss(\n",
        "    ## INCLUDE PARAMS YOU NEED HERE\n",
        "    Q, Q_target\n",
        "    ):\n",
        "    ## TODO - CALCULATE LOSS VALUE & RETURN IT\n",
        "    loss = F.smooth_l1_loss(Q, Q_target)\n",
        "    return loss"
      ]
    },
    {
      "cell_type": "code",
      "execution_count": 29,
      "metadata": {
        "id": "mV629tHLL6GQ"
      },
      "outputs": [],
      "source": [
        "steps_done = 0\n",
        "EPS_START =1.0\n",
        "EPS_END =0.1\n",
        "EPS_DECAY = 1000\n",
        "import math\n",
        "def choose_action(\n",
        "    ## INCLUDE PARAMS YOU NEED HERE\n",
        "    state,\n",
        "    ):\n",
        "    ## TODO - RETURN AN INTEGER FROM 0 - 5 (both inclusive) based on your model training/testing strategy\n",
        "    # state = torch.tensor(state, dtype=torch.float32).to(device)\n",
        "    # Q = policy_net(state)\n",
        "    # action = torch.argmax(Q)\n",
        "    global steps_done\n",
        "\n",
        "    sample = random.random()\n",
        "    eps_threshold = EPS_END + (EPS_START - EPS_END) * \\\n",
        "        math.exp(-1. * steps_done / EPS_DECAY)\n",
        "    steps_done += 1\n",
        "\n",
        "    if sample > eps_threshold:\n",
        "        with torch.no_grad():\n",
        "            action = policy_net(state).argmax().item()\n",
        "            action = torch.tensor([[action]], device=device, dtype=torch.long)\n",
        "            return action.item()\n",
        "    else:\n",
        "        action = torch.tensor([[env.action_space.sample()]], device=device, dtype=torch.long)\n",
        "        return action.item()\n",
        "\n",
        "\n",
        "    # return action.item()\n",
        "    # return 0"
      ]
    },
    {
      "cell_type": "code",
      "execution_count": 30,
      "metadata": {
        "id": "aVy8Zc8vGV7D",
        "colab": {
          "base_uri": "https://localhost:8080/",
          "height": 826
        },
        "outputId": "7a29ae9a-20d1-460b-99f6-3a8f6749e79a"
      },
      "outputs": [
        {
          "output_type": "display_data",
          "data": {
            "text/plain": [
              "<Figure size 1000x600 with 1 Axes>"
            ],
            "image/png": "[encoded data removed]"
          },
          "metadata": {}
        },
        {
          "output_type": "stream",
          "name": "stderr",
          "text": [
            "  7%|▋         | 201/3000 [34:41<8:03:12, 10.36s/it, Total Reward=751, Loss=4.04]\n"
          ]
        },
        {
          "output_type": "error",
          "ename": "KeyboardInterrupt",
          "evalue": "",
          "traceback": [
            "\u001b[0;31m---------------------------------------------------------------------------\u001b[0m",
            "\u001b[0;31mKeyboardInterrupt\u001b[0m                         Traceback (most recent call last)",
            "\u001b[0;32m<ipython-input-30-cc96da275f79>\u001b[0m in \u001b[0;36m<cell line: 9>\u001b[0;34m()\u001b[0m\n\u001b[1;32m     35\u001b[0m         \u001b[0;31m# assert len(memory) <= batch_size\u001b[0m\u001b[0;34m\u001b[0m\u001b[0;34m\u001b[0m\u001b[0m\n\u001b[1;32m     36\u001b[0m         \u001b[0mtransitions\u001b[0m \u001b[0;34m=\u001b[0m \u001b[0mmemory\u001b[0m\u001b[0;34m.\u001b[0m\u001b[0msample\u001b[0m\u001b[0;34m(\u001b[0m\u001b[0mbatch_size\u001b[0m\u001b[0;34m)\u001b[0m\u001b[0;34m\u001b[0m\u001b[0;34m\u001b[0m\u001b[0m\n\u001b[0;32m---> 37\u001b[0;31m         \u001b[0mbatch\u001b[0m \u001b[0;34m=\u001b[0m \u001b[0mTransition\u001b[0m\u001b[0;34m.\u001b[0m\u001b[0mfrom_batch\u001b[0m\u001b[0;34m(\u001b[0m\u001b[0mtransitions\u001b[0m\u001b[0;34m)\u001b[0m\u001b[0;34m\u001b[0m\u001b[0;34m\u001b[0m\u001b[0m\n\u001b[0m\u001b[1;32m     38\u001b[0m         \u001b[0mstate_batch\u001b[0m \u001b[0;34m=\u001b[0m \u001b[0mbatch\u001b[0m\u001b[0;34m.\u001b[0m\u001b[0mstate\u001b[0m\u001b[0;34m.\u001b[0m\u001b[0mto\u001b[0m\u001b[0;34m(\u001b[0m\u001b[0mdevice\u001b[0m\u001b[0;34m)\u001b[0m\u001b[0;34m\u001b[0m\u001b[0;34m\u001b[0m\u001b[0m\n\u001b[1;32m     39\u001b[0m         \u001b[0maction_batch\u001b[0m \u001b[0;34m=\u001b[0m \u001b[0mbatch\u001b[0m\u001b[0;34m.\u001b[0m\u001b[0maction\u001b[0m\u001b[0;34m.\u001b[0m\u001b[0mto\u001b[0m\u001b[0;34m(\u001b[0m\u001b[0mdevice\u001b[0m\u001b[0;34m)\u001b[0m\u001b[0;34m\u001b[0m\u001b[0;34m\u001b[0m\u001b[0m\n",
            "\u001b[0;32m<ipython-input-25-a0c9e9511ed4>\u001b[0m in \u001b[0;36mfrom_batch\u001b[0;34m(cls, batch)\u001b[0m\n\u001b[1;32m     15\u001b[0m     \u001b[0;34m@\u001b[0m\u001b[0mclassmethod\u001b[0m\u001b[0;34m\u001b[0m\u001b[0;34m\u001b[0m\u001b[0m\n\u001b[1;32m     16\u001b[0m     \u001b[0;32mdef\u001b[0m \u001b[0mfrom_batch\u001b[0m\u001b[0;34m(\u001b[0m\u001b[0mcls\u001b[0m\u001b[0;34m,\u001b[0m \u001b[0mbatch\u001b[0m\u001b[0;34m)\u001b[0m\u001b[0;34m:\u001b[0m\u001b[0;34m\u001b[0m\u001b[0;34m\u001b[0m\u001b[0m\n\u001b[0;32m---> 17\u001b[0;31m         \u001b[0mstates\u001b[0m \u001b[0;34m=\u001b[0m \u001b[0mtorch\u001b[0m\u001b[0;34m.\u001b[0m\u001b[0mstack\u001b[0m\u001b[0;34m(\u001b[0m\u001b[0;34m[\u001b[0m\u001b[0mtransition\u001b[0m\u001b[0;34m.\u001b[0m\u001b[0mstate\u001b[0m \u001b[0;32mfor\u001b[0m \u001b[0mtransition\u001b[0m \u001b[0;32min\u001b[0m \u001b[0mbatch\u001b[0m\u001b[0;34m]\u001b[0m\u001b[0;34m)\u001b[0m\u001b[0;34m\u001b[0m\u001b[0;34m\u001b[0m\u001b[0m\n\u001b[0m\u001b[1;32m     18\u001b[0m         \u001b[0mactions\u001b[0m \u001b[0;34m=\u001b[0m \u001b[0mtorch\u001b[0m\u001b[0;34m.\u001b[0m\u001b[0mtensor\u001b[0m\u001b[0;34m(\u001b[0m\u001b[0;34m[\u001b[0m\u001b[0mtransition\u001b[0m\u001b[0;34m.\u001b[0m\u001b[0maction\u001b[0m \u001b[0;32mfor\u001b[0m \u001b[0mtransition\u001b[0m \u001b[0;32min\u001b[0m \u001b[0mbatch\u001b[0m\u001b[0;34m]\u001b[0m\u001b[0;34m)\u001b[0m  \u001b[0;31m# 转换为Tensor对象\u001b[0m\u001b[0;34m\u001b[0m\u001b[0;34m\u001b[0m\u001b[0m\n\u001b[1;32m     19\u001b[0m         \u001b[0mnext_states\u001b[0m \u001b[0;34m=\u001b[0m \u001b[0mtorch\u001b[0m\u001b[0;34m.\u001b[0m\u001b[0mstack\u001b[0m\u001b[0;34m(\u001b[0m\u001b[0;34m[\u001b[0m\u001b[0mtransition\u001b[0m\u001b[0;34m.\u001b[0m\u001b[0mnext_state\u001b[0m \u001b[0;32mfor\u001b[0m \u001b[0mtransition\u001b[0m \u001b[0;32min\u001b[0m \u001b[0mbatch\u001b[0m\u001b[0;34m]\u001b[0m\u001b[0;34m)\u001b[0m\u001b[0;34m\u001b[0m\u001b[0;34m\u001b[0m\u001b[0m\n",
            "\u001b[0;31mKeyboardInterrupt\u001b[0m: "
          ]
        }
      ],
      "source": [
        "plt.style.use('ggplot')\n",
        "fig, ax = plt.subplots(figsize=(10, 6))\n",
        "plt.ion()\n",
        "\n",
        "# Create a tqdm progress bar\n",
        "progress_bar = tqdm.tqdm(range(num_episodes), postfix={'Total Reward': 0, 'Loss': 0})\n",
        "\n",
        "# RL algorithm training loop\n",
        "for episode in progress_bar:\n",
        "    total_reward = 0\n",
        "    state = env.reset()\n",
        "\n",
        "    while True:\n",
        "        # Convert the original state to the suitable format for the network\n",
        "        state_desc = env.disc2state(state)\n",
        "        state_list = convert_state_to_list(state_desc, env_features)\n",
        "        state_tensor = torch.tensor(state_list, dtype=torch.float32, device=device)\n",
        "\n",
        "        action = choose_action(\n",
        "            state_tensor\n",
        "            ## TODO: FILL IN PARAMS FOR CALLING choose_action\n",
        "        )\n",
        "\n",
        "        # Take the chosen action and observe the next state and reward\n",
        "        next_state, reward, done, _ = env.step((action))\n",
        "\n",
        "        # Convert the next state to the suitable format for the network\n",
        "        next_state_desc = env.disc2state(next_state)\n",
        "        next_state_list = convert_state_to_list(next_state_desc, env_features)\n",
        "        next_state_tensor = torch.tensor(next_state_list, dtype=torch.float32, device=device)\n",
        "\n",
        "\n",
        "        # Hint: You may want to collect experiences from the environment to update the agent in batches!\n",
        "        memory.push(state_tensor, action, next_state_tensor, reward)\n",
        "        # assert len(memory) <= batch_size\n",
        "        transitions = memory.sample(batch_size)\n",
        "        batch = Transition.from_batch(transitions)\n",
        "        state_batch = batch.state.to(device)\n",
        "        action_batch = batch.action.to(device)\n",
        "        next_state_batch = batch.next_state.to(device)\n",
        "        reward_batch = batch.reward.to(device)\n",
        "        # print('shape of reward_batch',reward_batch.shape)\n",
        "\n",
        "        # Compute Q(s_t, a)\n",
        "        policy_net.train()\n",
        "        target_net.eval()\n",
        "        Q = policy_net(state_batch).gather(1, action_batch.unsqueeze(1))\n",
        "\n",
        "        # Compute V(s_{t+1})\n",
        "        with torch.no_grad():\n",
        "            next_state_values = target_net(next_state_batch)\n",
        "            # print(\"next_state_values.shape\",next_state_values.shape)\n",
        "            # V = next_state_values.max(1)[0].unsqueeze(1)\n",
        "            # V = torch.max(next_state_values, dim=1)[0].unsqueeze(1)\n",
        "            V = next_state_values.max(1)[0].unsqueeze(1)\n",
        "            # print(\"V.shape\",V.shape)\n",
        "            target = (V * gamma) + reward_batch.unsqueeze(1)\n",
        "            # print(\"V.shape\",V.shape,\"reward_batch.shape\",reward_batch.shape,\"target.shape\",target.shape)\n",
        "\n",
        "        # Soft update of the target network's weights\n",
        "        for target_param, policy_param in zip(target_net.parameters(), policy_net.parameters()):\n",
        "            target_param.data.copy_(target_param.data * (1.0 - tau) + policy_param.data * tau)\n",
        "\n",
        "\n",
        "        # print(Q.shape,target.shape) #torch.Size([5500, 1]) torch.Size([5500, 5500])\n",
        "\n",
        "        loss = calculate_loss(\n",
        "            ## TODO: FILL IN PARAMS FOR CALLING calculate_loss\n",
        "            Q, target\n",
        "        )\n",
        "\n",
        "        optimizer.zero_grad()\n",
        "        loss.backward()\n",
        "\n",
        "        optimizer.step()\n",
        "\n",
        "        state = next_state\n",
        "        total_reward += reward\n",
        "\n",
        "        if done:\n",
        "            break\n",
        "\n",
        "\n",
        "    rewards_list.append(total_reward)\n",
        "    episodes.append(episode)\n",
        "\n",
        "    live_plot({'Total Reward': rewards_list}, fig)\n",
        "\n",
        "    # Saving the model\n",
        "    if episode%50 == 0:\n",
        "      # torch.save(policy_net.state_dict(), f'model.pt')\n",
        "      torch.save(policy_net, f'model.pt')\n",
        "\n",
        "    progress_bar.set_postfix({'Total Reward': total_reward, 'Loss': loss.item()})"
      ]
    },
    {
      "cell_type": "code",
      "source": [],
      "metadata": {
        "id": "JPMKO2tUVLnm"
      },
      "execution_count": null,
      "outputs": []
    },
    {
      "cell_type": "code",
      "source": [
        "torch.save(policy_net, f'model.pt')"
      ],
      "metadata": {
        "id": "HWH3xvHeUz2Q"
      },
      "execution_count": 31,
      "outputs": []
    },
    {
      "cell_type": "markdown",
      "metadata": {
        "id": "725d201d"
      },
      "source": [
        "# Test Performance"
      ]
    },
    {
      "cell_type": "code",
      "execution_count": 32,
      "metadata": {
        "id": "e3d53777",
        "colab": {
          "base_uri": "https://localhost:8080/"
        },
        "outputId": "faf27c0e-924c-494d-ed66-83ea5982b443"
      },
      "outputs": [
        {
          "output_type": "stream",
          "name": "stdout",
          "text": [
            "/usr/local/lib/python3.10/dist-packages/pyRDDLGym/Examples /usr/local/lib/python3.10/dist-packages/pyRDDLGym/Examples/manifest.csv\n",
            "Available example environment(s):\n",
            "HVAC -> Multi-zone and multi-heater HVAC control problem\n",
            "PropDBN -> Simple propositional DBN.\n",
            "MarsRover -> Multi Rover Navigation, where a group of agent needs to harvest mineral.\n",
            "UAV_mixed -> Mixed action space version of multi-UAV problem where a group of UAVs have to reach goal positions in the 3d Space.\n",
            "UAV_discrete -> Discrete action space version of multi-UAV problem where a group of UAVs have to reach goal positions in the 3d Space.\n",
            "UAV_continuous -> Continuous action space version of multi-UAV problem where a group of UAVs have to reach goal positions in the 3d Space.\n",
            "SupplyChainNet -> A supply chain network with factory and multiple warehouses.\n",
            "Elevators -> The Elevator domain models evening rush hours when people from different floors in a building want to go down to the bottom floor using elevators.\n",
            "CartPole_discrete -> A simple continuous state MDP for the classical cart-pole system by Rich Sutton, with discrete actions that apply a constant force on either the left or right side of the cart.\n",
            "CartPole_continuous -> A simple continuous state-action MDP for the classical cart-pole system by Rich Sutton, with actions that describe the continuous force applied to the cart.\n",
            "PowerGen_discrete -> A simple power generation problem loosely modeled on the problem of unit commitment.\n",
            "PowerGen_continuous -> A continuous simple power generation problem loosely modeled on the problem of unit commitment.\n",
            "RecSim -> A problem of recommendation systems, with consumers and providers.\n",
            "SupplyChain -> A supply chain with factory and multiple warehouses.\n",
            "RaceCar -> A simple continuous MDP for the racecar problem.\n",
            "NewtonZero -> Example with Newton root-finding method.\n",
            "NewLanguage -> Example with new language features.\n",
            "Wildfire -> A boolean version of the wildfire fighting domain.\n",
            "Traffic -> BLX/QTM traffic model.\n",
            "MountainCar -> A simple continuous MDP for the classical mountain car control problem.\n",
            "Reservoir_discrete -> Discrete version of management of the water level in interconnected reservoirs.\n",
            "Reservoir_continuous -> Continuous action version of management of the water level in interconnected reservoirs.\n"
          ]
        },
        {
          "output_type": "stream",
          "name": "stderr",
          "text": [
            "/usr/local/lib/python3.10/dist-packages/pyRDDLGym/Core/Env/RDDLConstraints.py:85: UserWarning: Constraint does not have a structure of <action or state fluent> <op> <rhs>, where:\n",
            "<op> is one of {<=, <, >=, >}\n",
            "<rhs> is a deterministic function of non-fluents or constants only.\n",
            ">> ( sum_{?f: floor} [ elevator-at-floor(?e, ?f) ] ) == 1\n",
            "  warnings.warn(\n"
          ]
        },
        {
          "output_type": "stream",
          "name": "stdout",
          "text": [
            "The building has 4 floors and 1 elevators. Each floor has maximum 3 people waiting. Each elevator can carry maximum of 10 people.\n"
          ]
        },
        {
          "output_type": "stream",
          "name": "stderr",
          "text": [
            "100%|██████████| 100/100 [00:54<00:00,  1.83it/s]"
          ]
        },
        {
          "output_type": "stream",
          "name": "stdout",
          "text": [
            "\n",
            "Mean Rewards: 523.4925\n"
          ]
        },
        {
          "output_type": "stream",
          "name": "stderr",
          "text": [
            "\n"
          ]
        }
      ],
      "source": [
        "# Initialize the environment\n",
        "env = Elevator(instance = 4)\n",
        "\n",
        "# Reset the environment to get the initial state\n",
        "\n",
        "num_episodes_to_run = 100\n",
        "rewards = []\n",
        "# Run episodes using the trained Neural Net\n",
        "for episode in tqdm.tqdm(range(num_episodes_to_run)):\n",
        "    state = env.reset()\n",
        "    total_reward = 0  # Initialize total reward for this episode\n",
        "    while True:\n",
        "        # Convert the current state to a dictionary\n",
        "        state_desc = env.disc2state(state)\n",
        "        state_list = convert_state_to_list(state_desc, env_features)\n",
        "        state_tensor = torch.tensor(state_list, dtype=torch.float32, device=device).unsqueeze(0)\n",
        "\n",
        "        # Use the Neural Net to get the action for the current state\n",
        "\n",
        "        action = choose_action(\n",
        "            ## TODO: FILL IN PARAMS FOR CALLING choose_action\n",
        "            state_tensor\n",
        "        )\n",
        "\n",
        "        # Step the environment with the selected action\n",
        "        next_state, reward, done, _ = env.step(action)\n",
        "\n",
        "        # Update the total reward for this episode\n",
        "        total_reward += reward\n",
        "\n",
        "        # Update the current state for the next iteration\n",
        "        state = next_state\n",
        "\n",
        "        if done:\n",
        "            break\n",
        "    rewards.append(total_reward)\n",
        "\n",
        "print(f\"\\nMean Rewards: {np.mean(rewards)}\")\n",
        "# Don't forget to close the environment when you're done\n",
        "env.close()"
      ]
    },
    {
      "cell_type": "code",
      "source": [],
      "metadata": {
        "id": "hrgocdtm2QSN"
      },
      "execution_count": null,
      "outputs": []
    }
  ],
  "metadata": {
    "accelerator": "GPU",
    "colab": {
      "gpuType": "T4",
      "provenance": []
    },
    "kernelspec": {
      "display_name": "Python 3",
      "name": "python3"
    },
    "language_info": {
      "name": "python"
    }
  },
  "nbformat": 4,
  "nbformat_minor": 0
}