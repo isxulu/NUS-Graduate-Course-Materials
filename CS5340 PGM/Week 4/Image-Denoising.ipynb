{
 "cells": [
  {
   "cell_type": "code",
   "execution_count": 1,
   "metadata": {},
   "outputs": [],
   "source": [
    "%matplotlib inline\n",
    "from PIL import Image, ImageOps\n",
    "import numpy as np\n",
    "import matplotlib.pyplot as plt"
   ]
  },
  {
   "cell_type": "markdown",
   "metadata": {},
   "source": [
    "\n",
    "# Image Denoising using MRFs"
   ]
  },
  {
   "cell_type": "markdown",
   "metadata": {},
   "source": [
    "### Real Image\n",
    "![](emoji.png)\n",
    "### Noisy Image\n",
    "![](emoji-noisy.png)\n",
    "\n",
    "## Goal: Recover the real image."
   ]
  },
  {
   "cell_type": "markdown",
   "metadata": {},
   "source": [
    "Let's denote the real image by $X$ and the noisy image by $Y$. $X$ and $Y$ are binary images where each pixel can take a value from $\\{-1, +1\\}$. Each pixel of $X$ and $Y$ represents a node in the MRF. \n",
    "\n",
    "Question: Which nodes are observed in this MRF?"
   ]
  },
  {
   "cell_type": "markdown",
   "metadata": {},
   "source": [
    "Answer: The ones that represent $Y$ because we only have access to the noisy image."
   ]
  },
  {
   "cell_type": "code",
   "execution_count": 2,
   "metadata": {},
   "outputs": [],
   "source": [
    "# Helper functions to load, binarize, and add noise to the image\n",
    "\n",
    "def load_image(fname):\n",
    "    img = Image.open(fname)\n",
    "    img_gray = img.convert('L')\n",
    "    img_eq = ImageOps.autocontrast(img_gray)\n",
    "    img_eq = np.array(img_eq.getdata()).reshape((img_eq.size[1], -1))\n",
    "    return img_eq\n",
    "\n",
    "def binarize_image(img_eq):\n",
    "    img_bin = np.copy(img_eq)\n",
    "    img_bin[img_bin < 128] = -1\n",
    "    img_bin[img_bin >= 128] = 1\n",
    "    return img_bin\n",
    "\n",
    "def add_noise(img_bin, noise_prob=0.1):\n",
    "    noise = np.random.choice([-1, 1], size=img_bin.shape, p=[noise_prob, 1-noise_prob])\n",
    "    img_bin = np.copy(img_bin)\n",
    "    img_bin *= noise\n",
    "    return img_bin"
   ]
  },
  {
   "cell_type": "markdown",
   "metadata": {},
   "source": [
    "Question: Add edges to the nodes. \n",
    "\n",
    "Hint: How is each pixel $x_{i,j}$ in $X$ related to other pixels in $X$ and $Y$? "
   ]
  },
  {
   "cell_type": "markdown",
   "metadata": {},
   "source": [
    "Answer: Each pixel $x_{i,j}$ is connected to the corresponding pixel $y_{i,j}$ in $Y$ and to the pixel in the neighborhood of $x_{i,j}$.\n",
    "\n",
    "![text](graph.png)\n",
    "(Image from Bishop's PRML)"
   ]
  },
  {
   "cell_type": "markdown",
   "metadata": {},
   "source": [
    "Now there are two types of edges: the ones between $x_{i,j}$ and $y_{i,j}$, and the ones between $x_{i,j}$ and its neighbors. \n",
    "\n",
    "Question: Choose suitable energy functions for both cases. \n",
    "\n",
    "Hint: Pixels in images are generally similar to their neighbors. We also expect that $x_{i,j}$ and $y_{i,j}$ will have the same value most of the time. Choose energy functions such that the energy is low when $x_{i,j}$ agrees with its neighbors and $y_{i,j}$."
   ]
  },
  {
   "cell_type": "markdown",
   "metadata": {},
   "source": [
    "Answer: \n",
    "\n",
    "$\n",
    "\\begin{align}\n",
    "\\psi(x_{i,j},y_{i,j}) = -\\alpha x_{i,j}y_{i,j}\\\\\n",
    "\\psi(x_{i,j},x_{i,j}^*) = -\\beta x_{i,j}x_{i,j}^*\n",
    "\\end{align}\n",
    "$\n",
    "\n",
    "where $x_{i,j}^*$ is a neighbor of $x_{i,j}$."
   ]
  },
  {
   "cell_type": "code",
   "execution_count": 3,
   "metadata": {},
   "outputs": [],
   "source": [
    "def index_oob(index, size):\n",
    "    return (index[0] < 0 \n",
    "            or index[0] >= size[0] \n",
    "            or index[1] < 0\n",
    "            or index[1] >= size[1])\n",
    "\n",
    "'''\n",
    "Params:\n",
    "X: The image X.\n",
    "loc: tuple of location (i, j)\n",
    "y_at_loc: value of image Y at (i, j)\n",
    "x_val: +1 or -1\n",
    "\n",
    "This function computes the local energy when the value of pixel X[i,j] is set to x_val.\n",
    "'''\n",
    "\n",
    "def compute_energy(X, loc, y_at_loc, x_val):\n",
    "    i, j = loc\n",
    "    energy = -alpha * y_at_loc * x_val\n",
    "    shifts = [[0, 1], [1, 0], [-1, 0], [0, -1]]\n",
    "    # shifts = [[1, 1], [-1, -1], [-1, 1], [1, -1]]\n",
    "    for s in shifts:\n",
    "        if not index_oob((i + s[0], j + s[1]), X.shape):\n",
    "            energy += -beta * x_val * X[i + s[0]][j + s[1]]\n",
    "    return energy"
   ]
  },
  {
   "cell_type": "markdown",
   "metadata": {},
   "source": [
    "$$E(X, Y) = \\sum_{i,j}\\left[-\\alpha x_{i,j}y_{i,j} +\\sum_{x_{i,j}^*\\:\\in\\:\\text{neighbors}(x_{i,j})}-\\beta x_{i,j}x_{i,j}^*\\right]$$\n",
    "\n",
    "The probability is now given by\n",
    "$$p(X, Y) = \\frac{1}{Z}\\exp\\{-E(X, Y)\\}$$"
   ]
  },
  {
   "cell_type": "markdown",
   "metadata": {},
   "source": [
    "We wish to find the value of $X$ that has high probability. One way to do this is using iterated conditional modes or ICM which is a co-ordinate ascent method. \n",
    "\n",
    "1. Loop over each pixel in $X$.\n",
    "2. Compute unnormalized $p(x_{i,j}=-1|X\\setminus x_{i,j},Y)$ and $p(x_{i,j}=+1|X\\setminus x_{i,j},Y)$.\n",
    "3. Set the pixel's value to -1 or +1 depending on which probability is higher.\n",
    "4. Repeat steps 1-3 until there's no change in $X$."
   ]
  },
  {
   "cell_type": "code",
   "execution_count": 68,
   "metadata": {},
   "outputs": [],
   "source": [
    "'''\n",
    "This function denoises the input image Y.\n",
    "'''\n",
    "def denoise_image(Y, max_iter=1000):\n",
    "    X = np.copy(Y)\n",
    "    for itr in range(max_iter):\n",
    "        prev_X = np.copy(X)\n",
    "        for i in range(X.shape[0]):\n",
    "            for j in range(X.shape[1]):\n",
    "                neg_prob = -compute_energy(X, (i, j), Y[i, j], -1)\n",
    "                pos_prob = -compute_energy(X, (i, j), Y[i, j], 1)\n",
    "                X[i, j] = -1 if neg_prob > pos_prob else 1\n",
    "        if np.allclose(prev_X, X):\n",
    "            print('Converged')\n",
    "            break\n",
    "    return X"
   ]
  },
  {
   "cell_type": "code",
   "execution_count": 69,
   "metadata": {},
   "outputs": [
    {
     "data": {
      "image/png": "[encoded data removed]",
      "text/plain": [
       "<Figure size 432x288 with 1 Axes>"
      ]
     },
     "metadata": {
      "needs_background": "light"
     },
     "output_type": "display_data"
    }
   ],
   "source": [
    "# Choose suitable values for alpha and beta\n",
    "alpha, beta = 1.0, 1.0\n",
    "img = binarize_image(load_image('pikachu.jpg'))\n",
    "plt.imshow(img)\n",
    "plt.show()"
   ]
  },
  {
   "cell_type": "code",
   "execution_count": 70,
   "metadata": {},
   "outputs": [
    {
     "data": {
      "image/png": "[encoded data removed]",
      "text/plain": [
       "<Figure size 432x288 with 1 Axes>"
      ]
     },
     "metadata": {
      "needs_background": "light"
     },
     "output_type": "display_data"
    }
   ],
   "source": [
    "Y = add_noise(img)\n",
    "plt.imshow(Y)\n",
    "plt.show()"
   ]
  },
  {
   "cell_type": "code",
   "execution_count": 71,
   "metadata": {},
   "outputs": [
    {
     "name": "stdout",
     "output_type": "stream",
     "text": [
      "Converged\n"
     ]
    }
   ],
   "source": [
    "Y_denoised = denoise_image(Y)"
   ]
  },
  {
   "cell_type": "code",
   "execution_count": 72,
   "metadata": {},
   "outputs": [
    {
     "data": {
      "image/png": "[encoded data removed]",
      "text/plain": [
       "<Figure size 720x360 with 3 Axes>"
      ]
     },
     "metadata": {
      "needs_background": "light"
     },
     "output_type": "display_data"
    }
   ],
   "source": [
    "# Plot the images\n",
    "\n",
    "fig, axn = plt.subplots(1, 3, figsize=(10, 5))\n",
    "axn[0].imshow(img)\n",
    "axn[0].axis('off')\n",
    "axn[0].set_title('Original Image')\n",
    "axn[1].imshow(Y)\n",
    "axn[1].axis('off')\n",
    "axn[1].set_title('Noisy Image')\n",
    "axn[2].imshow(Y_denoised)\n",
    "axn[2].axis('off')\n",
    "axn[2].set_title('Denoised Image')\n",
    "plt.show()"
   ]
  },
  {
   "cell_type": "code",
   "execution_count": null,
   "metadata": {},
   "outputs": [],
   "source": []
  },
  {
   "cell_type": "code",
   "execution_count": null,
   "metadata": {},
   "outputs": [],
   "source": []
  }
 ],
 "metadata": {
  "kernelspec": {
   "display_name": "Python 3 (ipykernel)",
   "language": "python",
   "name": "python3"
  },
  "language_info": {
   "codemirror_mode": {
    "name": "ipython",
    "version": 3
   },
   "file_extension": ".py",
   "mimetype": "text/x-python",
   "name": "python",
   "nbconvert_exporter": "python",
   "pygments_lexer": "ipython3",
   "version": "3.9.12"
  }
 },
 "nbformat": 4,
 "nbformat_minor": 2
}
