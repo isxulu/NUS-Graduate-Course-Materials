{
  "nbformat": 4,
  "nbformat_minor": 0,
  "metadata": {
    "colab": {
      "provenance": [],
      "gpuType": "T4"
    },
    "kernelspec": {
      "name": "python3",
      "display_name": "Python 3"
    },
    "language_info": {
      "name": "python"
    },
    "accelerator": "GPU"
  },
  "cells": [
    {
      "cell_type": "markdown",
      "source": [
        "# How to implement your own network\n",
        "##torch.nn.module\n",
        "Base class for all neural network modules.\n",
        "\n",
        "Your models should also subclass this class.\n",
        "\n",
        "When defining a subclass of nn.Module, you should rewrite the \\_\\_init\\_\\_ function to initialize what other pre-defined modules and functions that you need in this module, and how you would like to initialize them. Then you should rewrite the forward function to define how we use the input and the defined module and functions to calculate the output.\n",
        "\n",
        "Modules can also contain other Modules, allowing to nest them in a tree structure. You can assign the submodules as regular attributes:"
      ],
      "metadata": {
        "id": "YnpcBHjQ316V"
      }
    },
    {
      "cell_type": "code",
      "source": [
        "import torch.nn as nn\n",
        "import torch.nn.functional as F\n",
        "\n",
        "class Model(nn.Module):\n",
        "    def __init__(self):\n",
        "        super().__init__()\n",
        "        self.conv1 = nn.Conv2d(1, 20, 5)\n",
        "        self.conv2 = nn.Conv2d(20, 20, 5)\n",
        "\n",
        "    def forward(self, x):\n",
        "        x = F.relu(self.conv1(x))\n",
        "        return F.relu(self.conv2(x))"
      ],
      "metadata": {
        "id": "xKZftDuF4Gdw"
      },
      "execution_count": null,
      "outputs": []
    },
    {
      "cell_type": "markdown",
      "source": [
        "Your module should contain other modules in PyTorch(for example, nn.Conv2d), and functions that are pre-defined(like F.relu and other activation function).\n",
        "The autograd context of PyTorch will track your computation and automatically save the activation needed for backward propagation and compute the gradients when you call loss.backward().\n",
        "But sometimes you will also need to define some functions that are not defined in torch.nn.functional or sometimes they are not differentiable. That is when you need to use the other way of defining your network: torch.autograd.function."
      ],
      "metadata": {
        "id": "yPPyKGyy4KNi"
      }
    },
    {
      "cell_type": "markdown",
      "source": [
        "Different from torch.mm.module, torch.autograd.function does not contain an init function. Instead, you need to rewrite the forward and backward function for it. Also, as autograd is out of reach in this case, we will need to handle the activation ourselves. Fortunately, we have ctx here to help us. Save the intermediaten results in ctx and we can easily take them out during backward propagation. To be mentioned, the number of inputs for forward should be the same as the output of backward. Vice versa."
      ],
      "metadata": {
        "id": "ots79baQ6ROh"
      }
    },
    {
      "cell_type": "code",
      "source": [
        "from torch.autograd import Function\n",
        "# Inherit from Function\n",
        "class LinearFunction(Function):\n",
        "\n",
        "    # Note that both forward and backward are @staticmethods\n",
        "    @staticmethod\n",
        "    # bias is an optional argument\n",
        "    def forward(ctx, input, weight, bias=None):\n",
        "        ctx.save_for_backward(input, weight, bias)\n",
        "        output = input.mm(weight.t())\n",
        "        if bias is not None:\n",
        "            output += bias.unsqueeze(0).expand_as(output)\n",
        "        return output\n",
        "# This function has only a single output, so it gets only one gradient\n",
        "    @staticmethod\n",
        "    def backward(ctx, grad_output):\n",
        "        # This is a pattern that is very convenient - at the top of backward\n",
        "        # unpack saved_tensors and initialize all gradients w.r.t. inputs to\n",
        "        # None. Thanks to the fact that additional trailing Nones are\n",
        "        # ignored, the return statement is simple even when the function has\n",
        "        # optional inputs.\n",
        "        input, weight, bias = ctx.saved_tensors\n",
        "        grad_input = grad_weight = grad_bias = None\n",
        "\n",
        "        # These needs_input_grad checks are optional and there only to\n",
        "        # improve efficiency. If you want to make your code simpler, you can\n",
        "        # skip them. Returning gradients for inputs that don't require it is\n",
        "        # not an error.\n",
        "        if ctx.needs_input_grad[0]:\n",
        "            grad_input = grad_output.mm(weight)\n",
        "        if ctx.needs_input_grad[1]:\n",
        "            grad_weight = grad_output.t().mm(input)\n",
        "        if bias is not None and ctx.needs_input_grad[2]:\n",
        "            grad_bias = grad_output.sum(0)\n",
        "        return grad_input, grad_weight, grad_bias\n",
        "\n"
      ],
      "metadata": {
        "id": "5bSHcRKC6gM2"
      },
      "execution_count": 34,
      "outputs": []
    },
    {
      "cell_type": "markdown",
      "source": [
        "But in most cases, the pre-defined functions of PyTorch are enough for us. So only use torch.autograd.Function when you need to manipulate the grads or when you can not easily use autograd due to cases like complicated communication in distributed training."
      ],
      "metadata": {
        "id": "6MJyJgsu9rKT"
      }
    },
    {
      "cell_type": "markdown",
      "source": [
        "##Now we can look at a basic case of MLP."
      ],
      "metadata": {
        "id": "im02s8Ot-Ee5"
      }
    },
    {
      "cell_type": "code",
      "execution_count": 21,
      "metadata": {
        "id": "2gtSHQBCyTZW"
      },
      "outputs": [],
      "source": [
        "import torch\n",
        "import torchvision\n",
        "from torch.utils.data import DataLoader\n"
      ]
    },
    {
      "cell_type": "code",
      "source": [
        "n_epochs = 2\n",
        "batch_size_train = 64\n",
        "batch_size_test = 1000\n",
        "learning_rate = 0.01\n",
        "momentum = 0.5\n",
        "log_interval = 10\n",
        "random_seed = 1\n",
        "torch.manual_seed(random_seed)"
      ],
      "metadata": {
        "colab": {
          "base_uri": "https://localhost:8080/"
        },
        "id": "0250C0xSzTl7",
        "outputId": "a6813105-0833-4da8-ea3a-4dc15778d99c"
      },
      "execution_count": 2,
      "outputs": [
        {
          "output_type": "execute_result",
          "data": {
            "text/plain": [
              "<torch._C.Generator at 0x78e019d41490>"
            ]
          },
          "metadata": {},
          "execution_count": 2
        }
      ]
    },
    {
      "cell_type": "markdown",
      "source": [
        "##loading the data"
      ],
      "metadata": {
        "id": "fEOg_vGT-LVL"
      }
    },
    {
      "cell_type": "code",
      "source": [
        "train_loader = torch.utils.data.DataLoader(\n",
        "    torchvision.datasets.MNIST('./data/', train=True, download=True,\n",
        "                               transform=torchvision.transforms.Compose([\n",
        "                                   torchvision.transforms.ToTensor(),\n",
        "                                   torchvision.transforms.Normalize(\n",
        "                                       (0.1307,), (0.3081,))\n",
        "                               ])),\n",
        "    batch_size=batch_size_train, shuffle=True)\n",
        "test_loader = torch.utils.data.DataLoader(\n",
        "    torchvision.datasets.MNIST('./data/', train=False, download=True,\n",
        "                               transform=torchvision.transforms.Compose([\n",
        "                                   torchvision.transforms.ToTensor(),\n",
        "                                   torchvision.transforms.Normalize(\n",
        "                                       (0.1307,), (0.3081,))\n",
        "                               ])),\n",
        "    batch_size=batch_size_test, shuffle=True)"
      ],
      "metadata": {
        "id": "hmVvGoS5za2D"
      },
      "execution_count": 4,
      "outputs": []
    },
    {
      "cell_type": "code",
      "source": [
        "examples = enumerate(test_loader)\n",
        "batch_idx, (example_data, example_targets) = next(examples)\n",
        "print(example_targets)\n",
        "print(example_data.shape)"
      ],
      "metadata": {
        "colab": {
          "base_uri": "https://localhost:8080/"
        },
        "id": "iBekwexkzfGI",
        "outputId": "6dd6a358-07d9-455b-a55b-f43a516af5b5"
      },
      "execution_count": 5,
      "outputs": [
        {
          "output_type": "stream",
          "name": "stdout",
          "text": [
            "tensor([3, 9, 4, 9, 9, 0, 8, 3, 1, 2, 3, 9, 1, 3, 6, 6, 4, 4, 9, 7, 3, 7, 6, 3,\n",
            "        4, 8, 4, 6, 8, 6, 1, 1, 1, 1, 0, 0, 1, 8, 4, 0, 1, 2, 7, 9, 3, 2, 3, 8,\n",
            "        3, 2, 0, 4, 6, 6, 5, 5, 3, 0, 3, 7, 2, 4, 1, 6, 7, 5, 4, 1, 0, 8, 5, 9,\n",
            "        0, 9, 6, 1, 8, 0, 9, 3, 5, 7, 8, 5, 6, 4, 2, 2, 2, 1, 8, 4, 4, 2, 1, 5,\n",
            "        9, 3, 7, 0, 4, 1, 7, 2, 2, 6, 5, 1, 2, 6, 1, 3, 1, 2, 7, 4, 1, 3, 2, 9,\n",
            "        3, 7, 2, 7, 4, 7, 0, 0, 9, 0, 9, 5, 1, 6, 9, 8, 1, 4, 6, 7, 5, 5, 6, 4,\n",
            "        5, 4, 0, 7, 4, 1, 3, 8, 2, 6, 2, 2, 8, 4, 1, 9, 6, 7, 5, 0, 7, 4, 6, 2,\n",
            "        6, 8, 7, 9, 8, 0, 7, 4, 2, 4, 9, 0, 4, 6, 5, 6, 6, 4, 4, 8, 3, 8, 0, 9,\n",
            "        5, 6, 3, 3, 8, 4, 4, 6, 7, 8, 5, 3, 4, 3, 3, 3, 3, 1, 8, 8, 9, 1, 0, 1,\n",
            "        4, 1, 0, 2, 0, 6, 5, 1, 5, 8, 8, 1, 3, 9, 4, 5, 9, 2, 5, 6, 5, 8, 2, 7,\n",
            "        4, 1, 6, 8, 7, 9, 3, 3, 4, 4, 5, 4, 9, 8, 2, 9, 1, 6, 7, 1, 0, 5, 1, 9,\n",
            "        2, 1, 5, 2, 7, 9, 0, 0, 6, 0, 8, 7, 2, 6, 1, 7, 6, 1, 2, 1, 6, 3, 1, 4,\n",
            "        1, 7, 5, 9, 3, 8, 6, 3, 8, 7, 4, 2, 3, 2, 4, 3, 5, 1, 2, 4, 0, 9, 4, 0,\n",
            "        5, 0, 7, 3, 3, 1, 8, 4, 1, 2, 2, 6, 0, 2, 1, 6, 3, 6, 2, 1, 7, 3, 9, 9,\n",
            "        0, 7, 6, 6, 8, 0, 1, 1, 9, 9, 6, 9, 4, 7, 8, 7, 8, 5, 3, 2, 4, 4, 3, 3,\n",
            "        1, 9, 5, 3, 1, 8, 4, 7, 6, 0, 5, 9, 7, 5, 4, 0, 3, 6, 0, 0, 5, 9, 7, 4,\n",
            "        7, 7, 3, 3, 8, 0, 5, 8, 6, 3, 4, 9, 6, 2, 2, 9, 3, 9, 4, 3, 7, 8, 0, 3,\n",
            "        7, 5, 1, 7, 0, 1, 7, 1, 6, 8, 9, 0, 2, 0, 0, 2, 8, 5, 6, 2, 1, 6, 4, 2,\n",
            "        1, 0, 7, 8, 7, 9, 8, 3, 1, 5, 2, 5, 0, 3, 8, 4, 1, 8, 0, 2, 4, 4, 0, 0,\n",
            "        4, 2, 8, 7, 5, 8, 5, 3, 7, 3, 3, 3, 1, 2, 4, 5, 9, 8, 2, 7, 6, 8, 6, 1,\n",
            "        3, 4, 0, 3, 7, 0, 3, 2, 9, 6, 2, 1, 7, 8, 1, 6, 9, 8, 6, 8, 7, 0, 5, 2,\n",
            "        5, 4, 4, 8, 6, 6, 8, 6, 7, 0, 9, 4, 4, 9, 7, 5, 7, 5, 9, 0, 8, 3, 9, 8,\n",
            "        1, 3, 3, 1, 0, 0, 1, 2, 1, 7, 0, 7, 0, 9, 8, 3, 2, 2, 0, 3, 0, 3, 0, 3,\n",
            "        6, 1, 5, 8, 8, 7, 4, 5, 2, 6, 7, 8, 4, 8, 3, 9, 2, 6, 8, 7, 2, 3, 0, 4,\n",
            "        9, 7, 7, 5, 0, 3, 6, 2, 9, 5, 9, 3, 7, 3, 6, 0, 9, 6, 5, 1, 6, 3, 9, 0,\n",
            "        9, 8, 4, 1, 6, 4, 1, 9, 1, 4, 6, 9, 4, 4, 7, 2, 3, 5, 9, 9, 2, 3, 0, 9,\n",
            "        9, 0, 0, 2, 4, 5, 6, 4, 7, 9, 0, 9, 0, 8, 3, 3, 1, 6, 0, 8, 3, 9, 8, 0,\n",
            "        3, 9, 7, 4, 8, 0, 9, 9, 7, 4, 9, 0, 1, 9, 0, 3, 3, 6, 8, 2, 6, 0, 0, 8,\n",
            "        8, 7, 9, 7, 7, 6, 1, 6, 0, 1, 9, 9, 5, 6, 9, 6, 2, 2, 1, 1, 6, 0, 7, 8,\n",
            "        4, 2, 4, 7, 0, 8, 9, 5, 9, 6, 9, 1, 2, 2, 8, 1, 3, 6, 2, 0, 5, 1, 1, 6,\n",
            "        8, 7, 0, 6, 2, 5, 6, 1, 9, 8, 6, 8, 5, 1, 7, 3, 2, 0, 9, 2, 2, 5, 5, 3,\n",
            "        8, 1, 4, 9, 7, 7, 1, 8, 2, 8, 1, 1, 7, 4, 1, 6, 9, 2, 0, 3, 4, 2, 0, 5,\n",
            "        7, 5, 7, 2, 5, 6, 8, 2, 6, 7, 3, 1, 6, 2, 4, 2, 0, 2, 5, 4, 1, 1, 5, 7,\n",
            "        4, 5, 2, 0, 8, 0, 4, 7, 3, 8, 8, 2, 3, 2, 6, 5, 1, 0, 4, 1, 3, 9, 0, 2,\n",
            "        8, 9, 1, 2, 0, 8, 7, 4, 4, 0, 7, 1, 0, 8, 5, 3, 3, 3, 4, 0, 7, 4, 4, 5,\n",
            "        0, 2, 2, 7, 8, 1, 2, 8, 0, 3, 5, 4, 6, 7, 9, 0, 0, 7, 3, 9, 4, 9, 5, 1,\n",
            "        4, 4, 9, 8, 7, 3, 9, 0, 8, 7, 0, 8, 4, 5, 8, 1, 7, 4, 2, 1, 1, 5, 1, 1,\n",
            "        5, 5, 6, 4, 3, 7, 3, 3, 3, 0, 4, 7, 9, 0, 3, 9, 8, 0, 7, 8, 7, 0, 0, 3,\n",
            "        7, 7, 6, 8, 8, 9, 8, 0, 9, 4, 9, 3, 8, 6, 8, 2, 0, 4, 8, 4, 4, 4, 6, 8,\n",
            "        3, 6, 3, 5, 1, 9, 5, 4, 3, 8, 3, 1, 2, 3, 1, 1, 9, 9, 5, 5, 0, 4, 1, 6,\n",
            "        9, 4, 8, 6, 8, 1, 7, 2, 6, 9, 8, 2, 7, 2, 2, 4, 8, 9, 3, 6, 2, 2, 7, 8,\n",
            "        5, 7, 2, 0, 0, 2, 3, 1, 1, 5, 8, 5, 3, 9, 7, 6])\n",
            "torch.Size([1000, 1, 28, 28])\n"
          ]
        }
      ]
    },
    {
      "cell_type": "markdown",
      "source": [
        "##Take a look at the examples"
      ],
      "metadata": {
        "id": "W7HDwMsB-Pr0"
      }
    },
    {
      "cell_type": "code",
      "source": [
        "import matplotlib.pyplot as plt\n",
        "fig = plt.figure()\n",
        "for i in range(6):\n",
        "  plt.subplot(2,3,i+1)\n",
        "  plt.tight_layout()\n",
        "  plt.imshow(example_data[i][0], cmap='gray', interpolation='none')\n",
        "  plt.title(\"Ground Truth: {}\".format(example_targets[i]))\n",
        "  plt.xticks([])\n",
        "  plt.yticks([])\n",
        "plt.show()"
      ],
      "metadata": {
        "colab": {
          "base_uri": "https://localhost:8080/",
          "height": 438
        },
        "id": "8_57Nv9UzjiO",
        "outputId": "fa79a2a2-76df-4eff-8b6b-863a2dbd5de5"
      },
      "execution_count": 6,
      "outputs": [
        {
          "output_type": "display_data",
          "data": {
            "text/plain": [
              "<Figure size 640x480 with 6 Axes>"
            ],
            "image/png": "[encoded data removed]"
          },
          "metadata": {}
        }
      ]
    },
    {
      "cell_type": "markdown",
      "source": [
        "##Using torch.nn.Module to define our network"
      ],
      "metadata": {
        "id": "q2srvkD2-UJP"
      }
    },
    {
      "cell_type": "code",
      "source": [
        "import torch.nn as nn\n",
        "import torch.nn.functional as F\n",
        "import torch.optim as optim\n",
        "class Net(nn.Module):\n",
        "    def __init__(self):\n",
        "        super(Net, self).__init__()\n",
        "        self.conv1 = nn.Conv2d(1, 10, kernel_size=5)\n",
        "        self.conv2 = nn.Conv2d(10, 20, kernel_size=5)\n",
        "        self.conv2_drop = nn.Dropout2d()\n",
        "        self.fc1 = nn.Linear(320, 50)\n",
        "        self.fc2 = nn.Linear(50, 10)\n",
        "    def forward(self, x):\n",
        "        x = F.relu(F.max_pool2d(self.conv1(x), 2))\n",
        "        x = F.relu(F.max_pool2d(self.conv2_drop(self.conv2(x)), 2))\n",
        "        x = x.view(-1, 320)\n",
        "        x = F.relu(self.fc1(x))\n",
        "        x = F.dropout(x, training=self.training)\n",
        "        x = self.fc2(x)\n",
        "        return F.log_softmax(x)"
      ],
      "metadata": {
        "id": "Nji04nykz8ys"
      },
      "execution_count": 7,
      "outputs": []
    },
    {
      "cell_type": "markdown",
      "source": [
        "Move the network to GPU and define the optimizer."
      ],
      "metadata": {
        "id": "PNp1339l-Y_q"
      }
    },
    {
      "cell_type": "code",
      "source": [
        "network = Net().cuda()\n",
        "optimizer = optim.SGD(network.parameters(), lr=learning_rate,\n",
        "                      momentum=momentum)"
      ],
      "metadata": {
        "id": "JDKTJR2P0kAS"
      },
      "execution_count": 17,
      "outputs": []
    },
    {
      "cell_type": "code",
      "source": [
        "train_losses = []\n",
        "train_counter = []\n",
        "test_losses = []\n",
        "test_counter = [i*len(train_loader.dataset) for i in range(n_epochs + 1)]\n"
      ],
      "metadata": {
        "id": "Acjd5YNY0oUm"
      },
      "execution_count": 18,
      "outputs": []
    },
    {
      "cell_type": "markdown",
      "source": [
        "##The training loop"
      ],
      "metadata": {
        "id": "bgt-uFjW-dqF"
      }
    },
    {
      "cell_type": "code",
      "source": [
        "def train(epoch):\n",
        "  network.train()\n",
        "  for batch_idx, (data, target) in enumerate(train_loader):\n",
        "    data = data.cuda()\n",
        "    target = target.cuda()\n",
        "    optimizer.zero_grad()\n",
        "    output = network(data)\n",
        "    loss = F.nll_loss(output, target)\n",
        "    loss.backward()\n",
        "    optimizer.step()\n",
        "    if batch_idx % log_interval == 0:\n",
        "      print('Train Epoch: {} [{}/{} ({:.0f}%)]\\tLoss: {:.6f}'.format(\n",
        "        epoch, batch_idx * len(data), len(train_loader.dataset),\n",
        "        100. * batch_idx / len(train_loader), loss.item()))\n",
        "      train_losses.append(loss.item())\n",
        "      train_counter.append(\n",
        "        (batch_idx*64) + ((epoch-1)*len(train_loader.dataset)))\n",
        ""
      ],
      "metadata": {
        "id": "daKK4SHK0vM6"
      },
      "execution_count": 19,
      "outputs": []
    },
    {
      "cell_type": "markdown",
      "source": [
        "Test function and checking the result."
      ],
      "metadata": {
        "id": "IC9Rw-hq-gYD"
      }
    },
    {
      "cell_type": "code",
      "source": [
        "def test():\n",
        "  network.eval()\n",
        "  test_loss = 0\n",
        "  correct = 0\n",
        "  with torch.no_grad():\n",
        "    for data, target in test_loader:\n",
        "      data = data.cuda()\n",
        "      target = target.cuda()\n",
        "      output = network(data)\n",
        "      test_loss += F.nll_loss(output, target, size_average=False).item()\n",
        "      pred = output.data.max(1, keepdim=True)[1]\n",
        "      correct += pred.eq(target.data.view_as(pred)).sum()\n",
        "  test_loss /= len(test_loader.dataset)\n",
        "  test_losses.append(test_loss)\n",
        "  print('\\nTest set: Avg. loss: {:.4f}, Accuracy: {}/{} ({:.0f}%)\\n'.format(\n",
        "    test_loss, correct, len(test_loader.dataset),\n",
        "    100. * correct / len(test_loader.dataset)))\n",
        "\n",
        "test()\n",
        "for epoch in range(1, n_epochs + 1):\n",
        "    train(epoch)\n",
        "    test()\n",
        "import matplotlib.pyplot as plt\n",
        "fig = plt.figure()\n",
        "plt.plot(train_counter, train_losses, color='blue')\n",
        "plt.scatter(test_counter, test_losses, color='red')\n",
        "plt.legend(['Train Loss', 'Test Loss'], loc='upper right')\n",
        "plt.xlabel('number of training examples seen')\n",
        "plt.ylabel('negative log likelihood loss')\n",
        "plt.show()\n"
      ],
      "metadata": {
        "colab": {
          "base_uri": "https://localhost:8080/",
          "height": 1000
        },
        "id": "9kFWVbEf08bz",
        "outputId": "4a7fb4d5-8e79-4761-bcbe-baeb8fca2691"
      },
      "execution_count": 20,
      "outputs": [
        {
          "output_type": "stream",
          "name": "stderr",
          "text": [
            "<ipython-input-7-358f421c3a3b>:19: UserWarning: Implicit dimension choice for log_softmax has been deprecated. Change the call to include dim=X as an argument.\n",
            "  return F.log_softmax(x)\n"
          ]
        },
        {
          "output_type": "stream",
          "name": "stdout",
          "text": [
            "\n",
            "Test set: Avg. loss: 2.3056, Accuracy: 827/10000 (8%)\n",
            "\n",
            "Train Epoch: 1 [0/60000 (0%)]\tLoss: 2.335227\n",
            "Train Epoch: 1 [640/60000 (1%)]\tLoss: 2.312729\n",
            "Train Epoch: 1 [1280/60000 (2%)]\tLoss: 2.296420\n",
            "Train Epoch: 1 [1920/60000 (3%)]\tLoss: 2.249634\n",
            "Train Epoch: 1 [2560/60000 (4%)]\tLoss: 2.285140\n",
            "Train Epoch: 1 [3200/60000 (5%)]\tLoss: 2.224921\n",
            "Train Epoch: 1 [3840/60000 (6%)]\tLoss: 2.244668\n",
            "Train Epoch: 1 [4480/60000 (7%)]\tLoss: 2.188633\n",
            "Train Epoch: 1 [5120/60000 (9%)]\tLoss: 2.164671\n",
            "Train Epoch: 1 [5760/60000 (10%)]\tLoss: 2.117030\n",
            "Train Epoch: 1 [6400/60000 (11%)]\tLoss: 2.106354\n",
            "Train Epoch: 1 [7040/60000 (12%)]\tLoss: 1.926432\n",
            "Train Epoch: 1 [7680/60000 (13%)]\tLoss: 1.980910\n",
            "Train Epoch: 1 [8320/60000 (14%)]\tLoss: 1.841516\n",
            "Train Epoch: 1 [8960/60000 (15%)]\tLoss: 1.801621\n",
            "Train Epoch: 1 [9600/60000 (16%)]\tLoss: 1.606411\n",
            "Train Epoch: 1 [10240/60000 (17%)]\tLoss: 1.639741\n",
            "Train Epoch: 1 [10880/60000 (18%)]\tLoss: 1.557400\n",
            "Train Epoch: 1 [11520/60000 (19%)]\tLoss: 1.372159\n",
            "Train Epoch: 1 [12160/60000 (20%)]\tLoss: 1.352972\n",
            "Train Epoch: 1 [12800/60000 (21%)]\tLoss: 1.352167\n",
            "Train Epoch: 1 [13440/60000 (22%)]\tLoss: 1.307093\n",
            "Train Epoch: 1 [14080/60000 (23%)]\tLoss: 1.007114\n",
            "Train Epoch: 1 [14720/60000 (25%)]\tLoss: 1.024235\n",
            "Train Epoch: 1 [15360/60000 (26%)]\tLoss: 1.223204\n",
            "Train Epoch: 1 [16000/60000 (27%)]\tLoss: 1.007491\n",
            "Train Epoch: 1 [16640/60000 (28%)]\tLoss: 1.204068\n",
            "Train Epoch: 1 [17280/60000 (29%)]\tLoss: 0.803296\n",
            "Train Epoch: 1 [17920/60000 (30%)]\tLoss: 0.816915\n",
            "Train Epoch: 1 [18560/60000 (31%)]\tLoss: 0.769371\n",
            "Train Epoch: 1 [19200/60000 (32%)]\tLoss: 1.020954\n",
            "Train Epoch: 1 [19840/60000 (33%)]\tLoss: 0.909592\n",
            "Train Epoch: 1 [20480/60000 (34%)]\tLoss: 0.881492\n",
            "Train Epoch: 1 [21120/60000 (35%)]\tLoss: 1.063907\n",
            "Train Epoch: 1 [21760/60000 (36%)]\tLoss: 1.051189\n",
            "Train Epoch: 1 [22400/60000 (37%)]\tLoss: 0.661078\n",
            "Train Epoch: 1 [23040/60000 (38%)]\tLoss: 0.646635\n",
            "Train Epoch: 1 [23680/60000 (39%)]\tLoss: 0.701248\n",
            "Train Epoch: 1 [24320/60000 (41%)]\tLoss: 0.796292\n",
            "Train Epoch: 1 [24960/60000 (42%)]\tLoss: 0.735780\n",
            "Train Epoch: 1 [25600/60000 (43%)]\tLoss: 0.543056\n",
            "Train Epoch: 1 [26240/60000 (44%)]\tLoss: 0.849073\n",
            "Train Epoch: 1 [26880/60000 (45%)]\tLoss: 0.992261\n",
            "Train Epoch: 1 [27520/60000 (46%)]\tLoss: 0.427132\n",
            "Train Epoch: 1 [28160/60000 (47%)]\tLoss: 0.666402\n",
            "Train Epoch: 1 [28800/60000 (48%)]\tLoss: 0.718606\n",
            "Train Epoch: 1 [29440/60000 (49%)]\tLoss: 0.461347\n",
            "Train Epoch: 1 [30080/60000 (50%)]\tLoss: 0.727815\n",
            "Train Epoch: 1 [30720/60000 (51%)]\tLoss: 0.525864\n",
            "Train Epoch: 1 [31360/60000 (52%)]\tLoss: 0.665989\n",
            "Train Epoch: 1 [32000/60000 (53%)]\tLoss: 0.542788\n",
            "Train Epoch: 1 [32640/60000 (54%)]\tLoss: 0.572466\n",
            "Train Epoch: 1 [33280/60000 (55%)]\tLoss: 0.619673\n",
            "Train Epoch: 1 [33920/60000 (57%)]\tLoss: 0.771420\n",
            "Train Epoch: 1 [34560/60000 (58%)]\tLoss: 0.726877\n",
            "Train Epoch: 1 [35200/60000 (59%)]\tLoss: 0.536010\n",
            "Train Epoch: 1 [35840/60000 (60%)]\tLoss: 0.396746\n",
            "Train Epoch: 1 [36480/60000 (61%)]\tLoss: 0.692825\n",
            "Train Epoch: 1 [37120/60000 (62%)]\tLoss: 0.634544\n",
            "Train Epoch: 1 [37760/60000 (63%)]\tLoss: 0.716407\n",
            "Train Epoch: 1 [38400/60000 (64%)]\tLoss: 0.572301\n",
            "Train Epoch: 1 [39040/60000 (65%)]\tLoss: 0.636663\n",
            "Train Epoch: 1 [39680/60000 (66%)]\tLoss: 0.638322\n",
            "Train Epoch: 1 [40320/60000 (67%)]\tLoss: 0.672830\n",
            "Train Epoch: 1 [40960/60000 (68%)]\tLoss: 0.510011\n",
            "Train Epoch: 1 [41600/60000 (69%)]\tLoss: 0.507026\n",
            "Train Epoch: 1 [42240/60000 (70%)]\tLoss: 0.510689\n",
            "Train Epoch: 1 [42880/60000 (71%)]\tLoss: 0.393947\n",
            "Train Epoch: 1 [43520/60000 (72%)]\tLoss: 0.708474\n",
            "Train Epoch: 1 [44160/60000 (74%)]\tLoss: 0.534426\n",
            "Train Epoch: 1 [44800/60000 (75%)]\tLoss: 0.519323\n",
            "Train Epoch: 1 [45440/60000 (76%)]\tLoss: 0.569415\n",
            "Train Epoch: 1 [46080/60000 (77%)]\tLoss: 0.297940\n",
            "Train Epoch: 1 [46720/60000 (78%)]\tLoss: 0.621476\n",
            "Train Epoch: 1 [47360/60000 (79%)]\tLoss: 0.419266\n",
            "Train Epoch: 1 [48000/60000 (80%)]\tLoss: 0.522031\n",
            "Train Epoch: 1 [48640/60000 (81%)]\tLoss: 0.503343\n",
            "Train Epoch: 1 [49280/60000 (82%)]\tLoss: 0.333400\n",
            "Train Epoch: 1 [49920/60000 (83%)]\tLoss: 0.494662\n",
            "Train Epoch: 1 [50560/60000 (84%)]\tLoss: 0.528054\n",
            "Train Epoch: 1 [51200/60000 (85%)]\tLoss: 0.573583\n",
            "Train Epoch: 1 [51840/60000 (86%)]\tLoss: 0.207995\n",
            "Train Epoch: 1 [52480/60000 (87%)]\tLoss: 0.334435\n",
            "Train Epoch: 1 [53120/60000 (88%)]\tLoss: 0.440606\n",
            "Train Epoch: 1 [53760/60000 (90%)]\tLoss: 0.475325\n",
            "Train Epoch: 1 [54400/60000 (91%)]\tLoss: 0.565746\n",
            "Train Epoch: 1 [55040/60000 (92%)]\tLoss: 0.616168\n",
            "Train Epoch: 1 [55680/60000 (93%)]\tLoss: 0.655177\n",
            "Train Epoch: 1 [56320/60000 (94%)]\tLoss: 0.518325\n",
            "Train Epoch: 1 [56960/60000 (95%)]\tLoss: 0.541849\n",
            "Train Epoch: 1 [57600/60000 (96%)]\tLoss: 0.344209\n",
            "Train Epoch: 1 [58240/60000 (97%)]\tLoss: 0.507905\n",
            "Train Epoch: 1 [58880/60000 (98%)]\tLoss: 0.617027\n",
            "Train Epoch: 1 [59520/60000 (99%)]\tLoss: 0.679151\n",
            "\n",
            "Test set: Avg. loss: 0.1911, Accuracy: 9432/10000 (94%)\n",
            "\n",
            "Train Epoch: 2 [0/60000 (0%)]\tLoss: 0.445982\n",
            "Train Epoch: 2 [640/60000 (1%)]\tLoss: 0.293545\n",
            "Train Epoch: 2 [1280/60000 (2%)]\tLoss: 0.299887\n",
            "Train Epoch: 2 [1920/60000 (3%)]\tLoss: 0.438870\n",
            "Train Epoch: 2 [2560/60000 (4%)]\tLoss: 0.371157\n",
            "Train Epoch: 2 [3200/60000 (5%)]\tLoss: 0.536162\n",
            "Train Epoch: 2 [3840/60000 (6%)]\tLoss: 0.366744\n",
            "Train Epoch: 2 [4480/60000 (7%)]\tLoss: 0.295448\n",
            "Train Epoch: 2 [5120/60000 (9%)]\tLoss: 0.323669\n",
            "Train Epoch: 2 [5760/60000 (10%)]\tLoss: 0.523996\n",
            "Train Epoch: 2 [6400/60000 (11%)]\tLoss: 0.601503\n",
            "Train Epoch: 2 [7040/60000 (12%)]\tLoss: 0.258541\n",
            "Train Epoch: 2 [7680/60000 (13%)]\tLoss: 0.423819\n",
            "Train Epoch: 2 [8320/60000 (14%)]\tLoss: 0.427928\n",
            "Train Epoch: 2 [8960/60000 (15%)]\tLoss: 0.387268\n",
            "Train Epoch: 2 [9600/60000 (16%)]\tLoss: 0.254434\n",
            "Train Epoch: 2 [10240/60000 (17%)]\tLoss: 0.404571\n",
            "Train Epoch: 2 [10880/60000 (18%)]\tLoss: 0.743147\n",
            "Train Epoch: 2 [11520/60000 (19%)]\tLoss: 0.339426\n",
            "Train Epoch: 2 [12160/60000 (20%)]\tLoss: 0.285027\n",
            "Train Epoch: 2 [12800/60000 (21%)]\tLoss: 0.282854\n",
            "Train Epoch: 2 [13440/60000 (22%)]\tLoss: 0.389453\n",
            "Train Epoch: 2 [14080/60000 (23%)]\tLoss: 0.303446\n",
            "Train Epoch: 2 [14720/60000 (25%)]\tLoss: 0.296986\n",
            "Train Epoch: 2 [15360/60000 (26%)]\tLoss: 0.395235\n",
            "Train Epoch: 2 [16000/60000 (27%)]\tLoss: 0.164330\n",
            "Train Epoch: 2 [16640/60000 (28%)]\tLoss: 0.300098\n",
            "Train Epoch: 2 [17280/60000 (29%)]\tLoss: 0.309541\n",
            "Train Epoch: 2 [17920/60000 (30%)]\tLoss: 0.391742\n",
            "Train Epoch: 2 [18560/60000 (31%)]\tLoss: 0.550132\n",
            "Train Epoch: 2 [19200/60000 (32%)]\tLoss: 0.439869\n",
            "Train Epoch: 2 [19840/60000 (33%)]\tLoss: 0.631762\n",
            "Train Epoch: 2 [20480/60000 (34%)]\tLoss: 0.407510\n",
            "Train Epoch: 2 [21120/60000 (35%)]\tLoss: 0.492613\n",
            "Train Epoch: 2 [21760/60000 (36%)]\tLoss: 0.417069\n",
            "Train Epoch: 2 [22400/60000 (37%)]\tLoss: 0.473722\n",
            "Train Epoch: 2 [23040/60000 (38%)]\tLoss: 0.238836\n",
            "Train Epoch: 2 [23680/60000 (39%)]\tLoss: 0.548826\n",
            "Train Epoch: 2 [24320/60000 (41%)]\tLoss: 0.436772\n",
            "Train Epoch: 2 [24960/60000 (42%)]\tLoss: 0.471646\n",
            "Train Epoch: 2 [25600/60000 (43%)]\tLoss: 0.622621\n",
            "Train Epoch: 2 [26240/60000 (44%)]\tLoss: 0.323963\n",
            "Train Epoch: 2 [26880/60000 (45%)]\tLoss: 0.460858\n",
            "Train Epoch: 2 [27520/60000 (46%)]\tLoss: 0.269808\n",
            "Train Epoch: 2 [28160/60000 (47%)]\tLoss: 0.560949\n",
            "Train Epoch: 2 [28800/60000 (48%)]\tLoss: 0.217905\n",
            "Train Epoch: 2 [29440/60000 (49%)]\tLoss: 0.480053\n",
            "Train Epoch: 2 [30080/60000 (50%)]\tLoss: 0.297796\n",
            "Train Epoch: 2 [30720/60000 (51%)]\tLoss: 0.618147\n",
            "Train Epoch: 2 [31360/60000 (52%)]\tLoss: 0.485008\n",
            "Train Epoch: 2 [32000/60000 (53%)]\tLoss: 0.380601\n",
            "Train Epoch: 2 [32640/60000 (54%)]\tLoss: 0.208788\n",
            "Train Epoch: 2 [33280/60000 (55%)]\tLoss: 0.442330\n",
            "Train Epoch: 2 [33920/60000 (57%)]\tLoss: 0.333007\n",
            "Train Epoch: 2 [34560/60000 (58%)]\tLoss: 0.435257\n",
            "Train Epoch: 2 [35200/60000 (59%)]\tLoss: 0.352921\n",
            "Train Epoch: 2 [35840/60000 (60%)]\tLoss: 0.460915\n",
            "Train Epoch: 2 [36480/60000 (61%)]\tLoss: 0.371808\n",
            "Train Epoch: 2 [37120/60000 (62%)]\tLoss: 0.294540\n",
            "Train Epoch: 2 [37760/60000 (63%)]\tLoss: 0.488912\n",
            "Train Epoch: 2 [38400/60000 (64%)]\tLoss: 0.458200\n",
            "Train Epoch: 2 [39040/60000 (65%)]\tLoss: 0.349089\n",
            "Train Epoch: 2 [39680/60000 (66%)]\tLoss: 0.323193\n",
            "Train Epoch: 2 [40320/60000 (67%)]\tLoss: 0.441534\n",
            "Train Epoch: 2 [40960/60000 (68%)]\tLoss: 0.480151\n",
            "Train Epoch: 2 [41600/60000 (69%)]\tLoss: 0.300634\n",
            "Train Epoch: 2 [42240/60000 (70%)]\tLoss: 0.178635\n",
            "Train Epoch: 2 [42880/60000 (71%)]\tLoss: 0.198365\n",
            "Train Epoch: 2 [43520/60000 (72%)]\tLoss: 0.246205\n",
            "Train Epoch: 2 [44160/60000 (74%)]\tLoss: 0.622987\n",
            "Train Epoch: 2 [44800/60000 (75%)]\tLoss: 0.417224\n",
            "Train Epoch: 2 [45440/60000 (76%)]\tLoss: 0.318713\n",
            "Train Epoch: 2 [46080/60000 (77%)]\tLoss: 0.544421\n",
            "Train Epoch: 2 [46720/60000 (78%)]\tLoss: 0.330846\n",
            "Train Epoch: 2 [47360/60000 (79%)]\tLoss: 0.356046\n",
            "Train Epoch: 2 [48000/60000 (80%)]\tLoss: 0.417550\n",
            "Train Epoch: 2 [48640/60000 (81%)]\tLoss: 0.797698\n",
            "Train Epoch: 2 [49280/60000 (82%)]\tLoss: 0.223356\n",
            "Train Epoch: 2 [49920/60000 (83%)]\tLoss: 0.250698\n",
            "Train Epoch: 2 [50560/60000 (84%)]\tLoss: 0.343275\n",
            "Train Epoch: 2 [51200/60000 (85%)]\tLoss: 0.318127\n",
            "Train Epoch: 2 [51840/60000 (86%)]\tLoss: 0.284482\n",
            "Train Epoch: 2 [52480/60000 (87%)]\tLoss: 0.304814\n",
            "Train Epoch: 2 [53120/60000 (88%)]\tLoss: 0.296481\n",
            "Train Epoch: 2 [53760/60000 (90%)]\tLoss: 0.372199\n",
            "Train Epoch: 2 [54400/60000 (91%)]\tLoss: 0.466830\n",
            "Train Epoch: 2 [55040/60000 (92%)]\tLoss: 0.450090\n",
            "Train Epoch: 2 [55680/60000 (93%)]\tLoss: 0.254036\n",
            "Train Epoch: 2 [56320/60000 (94%)]\tLoss: 0.292529\n",
            "Train Epoch: 2 [56960/60000 (95%)]\tLoss: 0.151585\n",
            "Train Epoch: 2 [57600/60000 (96%)]\tLoss: 0.288055\n",
            "Train Epoch: 2 [58240/60000 (97%)]\tLoss: 0.244112\n",
            "Train Epoch: 2 [58880/60000 (98%)]\tLoss: 0.297754\n",
            "Train Epoch: 2 [59520/60000 (99%)]\tLoss: 0.325696\n",
            "\n",
            "Test set: Avg. loss: 0.1237, Accuracy: 9636/10000 (96%)\n",
            "\n",
            "Train Epoch: 3 [0/60000 (0%)]\tLoss: 0.276430\n",
            "Train Epoch: 3 [640/60000 (1%)]\tLoss: 0.222087\n",
            "Train Epoch: 3 [1280/60000 (2%)]\tLoss: 0.384436\n",
            "Train Epoch: 3 [1920/60000 (3%)]\tLoss: 0.324770\n",
            "Train Epoch: 3 [2560/60000 (4%)]\tLoss: 0.450065\n",
            "Train Epoch: 3 [3200/60000 (5%)]\tLoss: 0.297255\n",
            "Train Epoch: 3 [3840/60000 (6%)]\tLoss: 0.458617\n",
            "Train Epoch: 3 [4480/60000 (7%)]\tLoss: 0.581792\n",
            "Train Epoch: 3 [5120/60000 (9%)]\tLoss: 0.275034\n",
            "Train Epoch: 3 [5760/60000 (10%)]\tLoss: 0.427901\n",
            "Train Epoch: 3 [6400/60000 (11%)]\tLoss: 0.248484\n",
            "Train Epoch: 3 [7040/60000 (12%)]\tLoss: 0.198484\n",
            "Train Epoch: 3 [7680/60000 (13%)]\tLoss: 0.214805\n",
            "Train Epoch: 3 [8320/60000 (14%)]\tLoss: 0.460469\n",
            "Train Epoch: 3 [8960/60000 (15%)]\tLoss: 0.521434\n",
            "Train Epoch: 3 [9600/60000 (16%)]\tLoss: 0.356311\n",
            "Train Epoch: 3 [10240/60000 (17%)]\tLoss: 0.398681\n",
            "Train Epoch: 3 [10880/60000 (18%)]\tLoss: 0.232176\n",
            "Train Epoch: 3 [11520/60000 (19%)]\tLoss: 0.449262\n",
            "Train Epoch: 3 [12160/60000 (20%)]\tLoss: 0.434491\n",
            "Train Epoch: 3 [12800/60000 (21%)]\tLoss: 0.416913\n",
            "Train Epoch: 3 [13440/60000 (22%)]\tLoss: 0.330327\n",
            "Train Epoch: 3 [14080/60000 (23%)]\tLoss: 0.309633\n",
            "Train Epoch: 3 [14720/60000 (25%)]\tLoss: 0.249042\n",
            "Train Epoch: 3 [15360/60000 (26%)]\tLoss: 0.180039\n",
            "Train Epoch: 3 [16000/60000 (27%)]\tLoss: 0.293849\n",
            "Train Epoch: 3 [16640/60000 (28%)]\tLoss: 0.193710\n",
            "Train Epoch: 3 [17280/60000 (29%)]\tLoss: 0.319470\n",
            "Train Epoch: 3 [17920/60000 (30%)]\tLoss: 0.595120\n",
            "Train Epoch: 3 [18560/60000 (31%)]\tLoss: 0.202595\n",
            "Train Epoch: 3 [19200/60000 (32%)]\tLoss: 0.352833\n",
            "Train Epoch: 3 [19840/60000 (33%)]\tLoss: 0.424794\n",
            "Train Epoch: 3 [20480/60000 (34%)]\tLoss: 0.217610\n",
            "Train Epoch: 3 [21120/60000 (35%)]\tLoss: 0.409747\n",
            "Train Epoch: 3 [21760/60000 (36%)]\tLoss: 0.243551\n",
            "Train Epoch: 3 [22400/60000 (37%)]\tLoss: 0.363243\n",
            "Train Epoch: 3 [23040/60000 (38%)]\tLoss: 0.197470\n",
            "Train Epoch: 3 [23680/60000 (39%)]\tLoss: 0.486819\n",
            "Train Epoch: 3 [24320/60000 (41%)]\tLoss: 0.368344\n",
            "Train Epoch: 3 [24960/60000 (42%)]\tLoss: 0.662501\n",
            "Train Epoch: 3 [25600/60000 (43%)]\tLoss: 0.281761\n",
            "Train Epoch: 3 [26240/60000 (44%)]\tLoss: 0.551918\n",
            "Train Epoch: 3 [26880/60000 (45%)]\tLoss: 0.148524\n",
            "Train Epoch: 3 [27520/60000 (46%)]\tLoss: 0.302220\n",
            "Train Epoch: 3 [28160/60000 (47%)]\tLoss: 0.259758\n",
            "Train Epoch: 3 [28800/60000 (48%)]\tLoss: 0.358474\n",
            "Train Epoch: 3 [29440/60000 (49%)]\tLoss: 0.101330\n",
            "Train Epoch: 3 [30080/60000 (50%)]\tLoss: 0.424853\n",
            "Train Epoch: 3 [30720/60000 (51%)]\tLoss: 0.295316\n",
            "Train Epoch: 3 [31360/60000 (52%)]\tLoss: 0.289026\n",
            "Train Epoch: 3 [32000/60000 (53%)]\tLoss: 0.324277\n",
            "Train Epoch: 3 [32640/60000 (54%)]\tLoss: 0.196112\n",
            "Train Epoch: 3 [33280/60000 (55%)]\tLoss: 0.341531\n",
            "Train Epoch: 3 [33920/60000 (57%)]\tLoss: 0.130711\n",
            "Train Epoch: 3 [34560/60000 (58%)]\tLoss: 0.452939\n",
            "Train Epoch: 3 [35200/60000 (59%)]\tLoss: 0.273870\n",
            "Train Epoch: 3 [35840/60000 (60%)]\tLoss: 0.343188\n",
            "Train Epoch: 3 [36480/60000 (61%)]\tLoss: 0.354984\n",
            "Train Epoch: 3 [37120/60000 (62%)]\tLoss: 0.137979\n",
            "Train Epoch: 3 [37760/60000 (63%)]\tLoss: 0.184406\n",
            "Train Epoch: 3 [38400/60000 (64%)]\tLoss: 0.575683\n",
            "Train Epoch: 3 [39040/60000 (65%)]\tLoss: 0.170910\n",
            "Train Epoch: 3 [39680/60000 (66%)]\tLoss: 0.221684\n",
            "Train Epoch: 3 [40320/60000 (67%)]\tLoss: 0.368949\n",
            "Train Epoch: 3 [40960/60000 (68%)]\tLoss: 0.200817\n",
            "Train Epoch: 3 [41600/60000 (69%)]\tLoss: 0.263406\n",
            "Train Epoch: 3 [42240/60000 (70%)]\tLoss: 0.513457\n",
            "Train Epoch: 3 [42880/60000 (71%)]\tLoss: 0.161842\n",
            "Train Epoch: 3 [43520/60000 (72%)]\tLoss: 0.522263\n",
            "Train Epoch: 3 [44160/60000 (74%)]\tLoss: 0.445582\n",
            "Train Epoch: 3 [44800/60000 (75%)]\tLoss: 0.323150\n",
            "Train Epoch: 3 [45440/60000 (76%)]\tLoss: 0.210517\n",
            "Train Epoch: 3 [46080/60000 (77%)]\tLoss: 0.186529\n",
            "Train Epoch: 3 [46720/60000 (78%)]\tLoss: 0.278843\n",
            "Train Epoch: 3 [47360/60000 (79%)]\tLoss: 0.216298\n",
            "Train Epoch: 3 [48000/60000 (80%)]\tLoss: 0.192463\n",
            "Train Epoch: 3 [48640/60000 (81%)]\tLoss: 0.276076\n",
            "Train Epoch: 3 [49280/60000 (82%)]\tLoss: 0.150374\n",
            "Train Epoch: 3 [49920/60000 (83%)]\tLoss: 0.135447\n",
            "Train Epoch: 3 [50560/60000 (84%)]\tLoss: 0.359257\n",
            "Train Epoch: 3 [51200/60000 (85%)]\tLoss: 0.292928\n",
            "Train Epoch: 3 [51840/60000 (86%)]\tLoss: 0.286035\n",
            "Train Epoch: 3 [52480/60000 (87%)]\tLoss: 0.167885\n",
            "Train Epoch: 3 [53120/60000 (88%)]\tLoss: 0.196211\n",
            "Train Epoch: 3 [53760/60000 (90%)]\tLoss: 0.296029\n",
            "Train Epoch: 3 [54400/60000 (91%)]\tLoss: 0.376484\n",
            "Train Epoch: 3 [55040/60000 (92%)]\tLoss: 0.566449\n",
            "Train Epoch: 3 [55680/60000 (93%)]\tLoss: 0.217825\n",
            "Train Epoch: 3 [56320/60000 (94%)]\tLoss: 0.329537\n",
            "Train Epoch: 3 [56960/60000 (95%)]\tLoss: 0.526885\n",
            "Train Epoch: 3 [57600/60000 (96%)]\tLoss: 0.342727\n",
            "Train Epoch: 3 [58240/60000 (97%)]\tLoss: 0.298643\n",
            "Train Epoch: 3 [58880/60000 (98%)]\tLoss: 0.314767\n",
            "Train Epoch: 3 [59520/60000 (99%)]\tLoss: 0.217859\n",
            "\n",
            "Test set: Avg. loss: 0.0978, Accuracy: 9706/10000 (97%)\n",
            "\n"
          ]
        },
        {
          "output_type": "display_data",
          "data": {
            "text/plain": [
              "<Figure size 640x480 with 1 Axes>"
            ],
            "image/png": "[encoded data removed]"
          },
          "metadata": {}
        }
      ]
    },
    {
      "cell_type": "markdown",
      "source": [
        "Credits to https://zhuanlan.zhihu.com/p/137571225 and https://zhuanlan.zhihu.com/p/344802526\n"
      ],
      "metadata": {
        "id": "G25_0xrH3lk_"
      }
    }
  ]
}